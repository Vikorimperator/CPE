{
 "cells": [
  {
   "cell_type": "markdown",
   "metadata": {},
   "source": [
    "# Normalizacion de Registos de Pozo"
   ]
  },
  {
   "cell_type": "markdown",
   "metadata": {},
   "source": [
    "## Configuracion del Entorno de trabajo"
   ]
  },
  {
   "cell_type": "code",
   "execution_count": 4,
   "metadata": {},
   "outputs": [],
   "source": [
    "# Cargamos las librerias para cargar los datos al entorno de trabajo\n",
    "import pandas as pd\n",
    "import sys\n",
    "import os\n",
    "\n",
    "# Funciones importadas como modulos\n",
    "notebook_dir = os.getcwd()\n",
    "scripts_dir = os.path.join(notebook_dir, \"..\", \"src\")\n",
    "sys.path.append(scripts_dir)\n",
    "from data_transform.load_csv import load_csv\n",
    "from data_transform.map_cimas_to_depth_multiple import map_cimas_create_columns\n",
    "from data_transform.normalize_well_logs_by_cima import normalize_well_logs_by_cima\n",
    "from data_transform.print_unique_values import print_unique_values\n",
    "from data_transform.save_data_csv import save_data_csv\n",
    "\n",
    "# Codigo para imprimir mas de una salida de la misma celda\n",
    "from IPython.core.interactiveshell import InteractiveShell\n",
    "InteractiveShell.ast_node_interactivity = \"all\""
   ]
  },
  {
   "cell_type": "markdown",
   "metadata": {},
   "source": [
    "## Creamos un DataFrame de trabajo"
   ]
  },
  {
   "cell_type": "code",
   "execution_count": 9,
   "metadata": {},
   "outputs": [
    {
     "name": "stdout",
     "output_type": "stream",
     "text": [
      "======================================================================================================================================================\n",
      "Valores únicos en la columna 'cima': cnir, enct, dpst, olgn, sal_ter, eocn, pacn, mndz, snfl, agnv, crtcm, crti, ttnno, kmmgn\n",
      "======================================================================================================================================================\n",
      "Valores únicos en la columna 'wellname': Pijije-101, Pijije-2, Pijije-25, Pijije-27\n",
      "======================================================================================================================================================\n"
     ]
    }
   ],
   "source": [
    "# Definimos la ruta de los registros a normalizar y sus cimas\n",
    "path_well_logs = os.path.join(notebook_dir, \"..\", \"data\", \"raw\", \"pijije_para_normalizar.csv\")\n",
    "path_well_tops = os.path.join(notebook_dir, \"..\", \"data\", \"raw\", \"pijije_cimas_normalizar.csv\")\n",
    "\n",
    "# Cargamos la informacion de los pozos\n",
    "well_logs_df = load_csv(path_well_logs)\n",
    "\n",
    "# verificamos que no exista ningun valor negativo en md\n",
    "well_logs_df = well_logs_df[well_logs_df[\"md\"] >= 0]\n",
    "\n",
    "# Cargamos la informacion de las cimas\n",
    "well_tops_df = load_csv(path_well_tops)\n",
    "\n",
    "# verificamos que no exista ningun valor negativo en md\n",
    "well_logs_df = well_logs_df[well_logs_df[\"md\"] >= 0]\n",
    "\n",
    "# Cargamos la informacion de las cimas\n",
    "well_tops_df = load_csv(path_well_tops)\n",
    "\n",
    "# Borramos la cima \"PT\"\n",
    "well_tops_df = well_tops_df[well_tops_df[\"surface\"] != \"PT\"]\n",
    "\n",
    "# Mapeamos las cimas con los registros de pozo \n",
    "pijije_df = map_cimas_create_columns(well_tops_df, well_logs_df, True)\n",
    "\n",
    "# Eliminamos todos los valores nulos\n",
    "pijije_df.dropna(inplace=True)\n",
    "\n",
    "# Imprimimos todas las cimas presentes en el DataFrame pijije_df\n",
    "print(\"=\"*150)\n",
    "print_unique_values(pijije_df, \"cima\")\n",
    "print(\"=\"*150)\n",
    "print_unique_values(pijije_df, \"wellname\")\n",
    "print(\"=\"*150)\n",
    "\n"
   ]
  },
  {
   "cell_type": "markdown",
   "metadata": {},
   "source": [
    "## Normalización"
   ]
  },
  {
   "cell_type": "code",
   "execution_count": 3,
   "metadata": {},
   "outputs": [],
   "source": [
    "# Seleccionamos el DataFrame de interes\n",
    "df = pijije_df\n",
    "\n",
    "# Seleccionamos los datos de las cimas de vamos a normalizar para cada arena\n",
    "cimas_interes = [\"mndz\", \"snfl\", \"agnv\", \"crtcm\", \"crti\", \"ttnno\", \"kmmgn\"]\n",
    "\n",
    "# Seleccionamos el pozo clave\n",
    "key_well = \"Pijije-2\"\n",
    "\n",
    "# Seleccionar las curvas a normalizar\n",
    "curve_names = [\"dtsm\"]\n",
    "\n",
    "# Seleccionamos los cuantiles para la normalización\n",
    "quanti_low = 0.05\n",
    "quanti_high = 0.95\n",
    "\n",
    "# Normalizamos las curvas por cima\n",
    "pijije_normalizado_list = normalize_well_logs_by_cima(df, cimas_interes, key_well, curve_names, quanti_low=0.05, quanti_high=0.95)\n",
    "\n",
    "# Concatenar la lista de DataFrames en un solo DataFrame\n",
    "pijije_normalizado_df = pd.concat(pijije_normalizado_list, ignore_index=True)"
   ]
  },
  {
   "cell_type": "markdown",
   "metadata": {},
   "source": [
    "## Generación de CSV"
   ]
  },
  {
   "cell_type": "code",
   "execution_count": 6,
   "metadata": {},
   "outputs": [],
   "source": [
    "# Generamos un archivo csv con las curvas normalizados para los pozos de interes\n",
    "# Pozos de interes\n",
    "normalized_wells = [\"Pijije-25\"]\n",
    "\n",
    "# Guardamos la información de curvas normalizadas\n",
    "save_data_csv(pijije_normalizado_df, normalized_wells, \"dtsm_normalized.csv\")"
   ]
  }
 ],
 "metadata": {
  "kernelspec": {
   "display_name": "Python 3",
   "language": "python",
   "name": "python3"
  },
  "language_info": {
   "codemirror_mode": {
    "name": "ipython",
    "version": 3
   },
   "file_extension": ".py",
   "mimetype": "text/x-python",
   "name": "python",
   "nbconvert_exporter": "python",
   "pygments_lexer": "ipython3",
   "version": "3.11.4"
  }
 },
 "nbformat": 4,
 "nbformat_minor": 2
}
