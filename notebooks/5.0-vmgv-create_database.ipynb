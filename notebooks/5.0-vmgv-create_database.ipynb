{
    "metadata": {
        "kernelspec": {
            "name": "SQL",
            "display_name": "SQL",
            "language": "sql"
        },
        "language_info": {
            "name": "sql",
            "version": ""
        }
    },
    "nbformat_minor": 2,
    "nbformat": 4,
    "cells": [
        {
            "cell_type": "code",
            "source": [
                "-- Creamos la tabla wells\r\n",
                "CREATE TABLE wells (\r\n",
                "    well_id INT IDENTITY PRIMARY KEY,\r\n",
                "    well VARCHAR(50) NOT NULL,\r\n",
                "    field VARCHAR(50),\r\n",
                "    top_md DECIMAL(10, 4),\r\n",
                "    bottom_md DECIMAL(10, 4)\r\n",
                ");"
            ],
            "metadata": {
                "azdata_cell_guid": "8f6ced62-cf89-48b6-8f9a-46d62704250a",
                "language": "sql",
                "tags": []
            },
            "outputs": [
                {
                    "output_type": "display_data",
                    "data": {
                        "text/html": "Commands completed successfully."
                    },
                    "metadata": {}
                },
                {
                    "output_type": "display_data",
                    "data": {
                        "text/html": "Total execution time: 00:00:00.117"
                    },
                    "metadata": {}
                }
            ],
            "execution_count": 1
        },
        {
            "cell_type": "code",
            "source": [
                "-- Cargamos la informacion de la tabla wells\r\n",
                "INSERT INTO wells (well, field, top_md, bottom_md) VALUES ('Caparroso-71', 'Caparroso-Pijije-Escuintle', 6120.7197265625, 499.903015136719);\r\n",
                "INSERT INTO wells (well, field, top_md, bottom_md) VALUES ('Caparroso-75', 'Caparroso-Pijije-Escuintle', 5614.0656, 60.0);\r\n",
                "INSERT INTO wells (well, field, top_md, bottom_md) VALUES ('Pijije-101', 'Caparroso-Pijije-Escuintle', 5233.1112, 0.0);\r\n",
                "INSERT INTO wells (well, field, top_md, bottom_md) VALUES ('Pijije-111', 'Caparroso-Pijije-Escuintle', 5851.856, 0.0008);\r\n",
                "INSERT INTO wells (well, field, top_md, bottom_md) VALUES ('Pijije-112', 'Caparroso-Pijije-Escuintle', 5149.962890625, 0.0620000213384628);\r\n",
                "INSERT INTO wells (well, field, top_md, bottom_md) VALUES ('Pijije-117', 'Caparroso-Pijije-Escuintle', 5636.056640625, 0.0);\r\n",
                "INSERT INTO wells (well, field, top_md, bottom_md) VALUES ('Pijije-125', 'Caparroso-Pijije-Escuintle', 5271.0588, 40.0812);\r\n",
                "INSERT INTO wells (well, field, top_md, bottom_md) VALUES ('Pijije-127', 'Caparroso-Pijije-Escuintle', 5414.92431640625, 46.0247993469238);\r\n",
                "INSERT INTO wells (well, field, top_md, bottom_md) VALUES ('Pijije-1A', 'Caparroso-Pijije-Escuintle', 6030.9252, 0.0);\r\n",
                "INSERT INTO wells (well, field, top_md, bottom_md) VALUES ('Pijije-21', 'Caparroso-Pijije-Escuintle', 5332.0188, 0.0);\r\n",
                "INSERT INTO wells (well, field, top_md, bottom_md) VALUES ('Pijije-25', 'Caparroso-Pijije-Escuintle', 5900.5472, 0.0764);\r\n",
                "INSERT INTO wells (well, field, top_md, bottom_md) VALUES ('Pijije-25REE2', 'Caparroso-Pijije-Escuintle', 6049.9752, 0.0);\r\n",
                "INSERT INTO wells (well, field, top_md, bottom_md) VALUES ('Pijije-27', 'Caparroso-Pijije-Escuintle', 5379.9, 27.6);\r\n",
                "INSERT INTO wells (well, field, top_md, bottom_md) VALUES ('Pijije-31REE', 'Caparroso-Pijije-Escuintle', 4874.9712, 0.0);\r\n",
                "INSERT INTO wells (well, field, top_md, bottom_md) VALUES ('Pijije-33', 'Caparroso-Pijije-Escuintle', 5068.062, 49.0728);\r\n",
                "INSERT INTO wells (well, field, top_md, bottom_md) VALUES ('Pijije-34', 'Caparroso-Pijije-Escuintle', 4799.9904, 0.0);\r\n",
                "INSERT INTO wells (well, field, top_md, bottom_md) VALUES ('Pijije-41', 'Caparroso-Pijije-Escuintle', 6334.0244, 500.0);\r\n",
                "INSERT INTO wells (well, field, top_md, bottom_md) VALUES ('Pijije-42', 'Caparroso-Pijije-Escuintle', 4703.9784, 0.0);"
            ],
            "metadata": {
                "azdata_cell_guid": "6e58dae0-4c66-49a1-a6cc-9e7ece35d31a",
                "language": "sql",
                "tags": []
            },
            "outputs": [
                {
                    "output_type": "display_data",
                    "data": {
                        "text/html": "(1 row affected)"
                    },
                    "metadata": {}
                },
                {
                    "output_type": "display_data",
                    "data": {
                        "text/html": "Total execution time: 00:00:00.135"
                    },
                    "metadata": {}
                }
            ],
            "execution_count": 1
        },
        {
            "cell_type": "code",
            "source": [
                "-- Creamos la tabla logs\r\n",
                "CREATE TABLE logs (\r\n",
                "    log_id INT IDENTITY PRIMARY KEY,\r\n",
                "    well_id INT NOT NULL,\r\n",
                "     CONSTRAINT FK_logs_wells FOREIGN KEY (well_id)\r\n",
                "        REFERENCES wells (well_id)\r\n",
                "        ON DELETE CASCADE\r\n",
                "        ON UPDATE CASCADE,\r\n",
                "    well VARCHAR(50) NOT NULL,\r\n",
                "    md VARCHAR(50),\r\n",
                "    type VARCHAR(50),\r\n",
                "    value INT NOT NULL\r\n",
                ");"
            ],
            "metadata": {
                "language": "sql",
                "azdata_cell_guid": "e64442dd-93dc-43a6-8e74-e4aeaed1c5b8"
            },
            "outputs": [
                {
                    "output_type": "display_data",
                    "data": {
                        "text/html": "Commands completed successfully."
                    },
                    "metadata": {}
                },
                {
                    "output_type": "display_data",
                    "data": {
                        "text/html": "Total execution time: 00:00:00.117"
                    },
                    "metadata": {}
                }
            ],
            "execution_count": 3
        }
    ]
}