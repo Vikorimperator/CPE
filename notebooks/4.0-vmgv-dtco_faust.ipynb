{
 "cells": [
  {
   "cell_type": "markdown",
   "metadata": {},
   "source": [
    "# DTCO Faust"
   ]
  },
  {
   "cell_type": "markdown",
   "metadata": {},
   "source": [
    "## Modulos a emplear"
   ]
  },
  {
   "cell_type": "code",
   "execution_count": 1,
   "metadata": {},
   "outputs": [],
   "source": [
    "# Importamos las librerias a utilizar\n",
    "import pandas as pd\n",
    "import numpy as np\n",
    "import sys\n",
    "\n",
    "# Funciones importadas como modulos\n",
    "sys.path.append(r\"D:\\Usuarios\\574905\\Documents\\Python\\CPE\\Sinteticos\\CPE\")\n",
    "from src.data_transform.load_csv import load_csv\n",
    "from src.data_transform.map_cimas_to_depth_multiple import map_cimas_to_depth_multiple"
   ]
  },
  {
   "cell_type": "markdown",
   "metadata": {},
   "source": [
    "## Carga y edicion de la información Pijije-2"
   ]
  },
  {
   "cell_type": "code",
   "execution_count": 2,
   "metadata": {},
   "outputs": [],
   "source": [
    "# Definimos la ruta de las cimas y la informacion de pozos a utilizar\n",
    "path_pozos = \"pozos\\Pijije-2_LQC.csv\"\n",
    "path_cimas = \"cimas\\Pijije-2_CIMAS.csv\"\n",
    "path_to_save = \"Resultados/dtco_faust_optimizado_pijije-2\"\n",
    "\n",
    "# Cargamos la informacion del pozo\n",
    "well_df = load_csv(path_pozos)\n",
    "\n",
    "# Cambiamos el tipo de de columnas a float\n",
    "columnas_convertir = [\"md\", \"rp\", \"dtco\", \"tvd\", \"tvdss\"]\n",
    "well_df[columnas_convertir] = well_df[columnas_convertir].astype(float)\n",
    "\n",
    "# Cargamos la informacion de cimas\n",
    "cimas_df = load_csv(path_cimas)\n",
    "\n",
    "# Cambiamos el tipo de columna a float\n",
    "cimas_df[\"md\"] = cimas_df[\"md\"].astype(float)\n",
    "\n",
    "# Ordena el DataFrame de cimas por 'MD' para asegurarte de que esté en el orden correcto\n",
    "cimas_df = cimas_df.sort_values(by='md')\n",
    "\n",
    "# Mapeamos las cimas con los registros de pozo \n",
    "well_df = map_cimas_to_depth(cimas_df, well_df)\n",
    "\n",
    "# Borramos los valores nulos\n",
    "well_df.dropna(inplace=True)\n",
    "\n",
    "# Obtenemos el nombre del pozo\n",
    "well_name = well_df[\"wellname\"].values[0]"
   ]
  },
  {
   "cell_type": "markdown",
   "metadata": {},
   "source": [
    "## Calculo de mejores constantes para Pijije-2"
   ]
  },
  {
   "cell_type": "code",
   "execution_count": 3,
   "metadata": {},
   "outputs": [
    {
     "name": "stdout",
     "output_type": "stream",
     "text": [
      "Mejor constante para Pijije-2 CNSR: 2572\n",
      "Mejor constante para Pijije-2 CNIR: 2414\n",
      "Mejor constante para Pijije-2 ENCT: 1868\n",
      "Mejor constante para Pijije-2 OLGN: 1749\n",
      "Mejor constante para Pijije-2 EOCN: 2004\n",
      "Mejor constante para Pijije-2 PACN: 1971\n",
      "Mejor constante para Pijije-2 MNDZ: 1960\n",
      "Mejor constante para Pijije-2 SNFL: 1920\n",
      "Mejor constante para Pijije-2 AGNV: 1943\n",
      "Mejor constante para Pijije-2 CRTCM: 1527\n",
      "Mejor constante para Pijije-2 CRTCE: 1561\n"
     ]
    }
   ],
   "source": [
    "# Convertimos los tvdss de m a ft\n",
    "well_df[\"tvdss_ft\"] = well_df[\"tvdss\"].values * 3.28084\n",
    "\n",
    "# Definimos un rango de valores de constante\n",
    "constantes = np.arange(500, 3000, 1)  # Cambia el rango según lo que necesites\n",
    "\n",
    "# Inicializamos variables para guardar las mejores constantes y las menores diferencias\n",
    "mejores_constantes = {}\n",
    "menores_diferencias = {}\n",
    "\n",
    "# Iteramos a través de las constantes y calculamos las diferencias para cada cima\n",
    "for cima in well_df[\"cima\"].unique():\n",
    "    dtco_df_cima = well_df[well_df[\"cima\"] == cima].copy()\n",
    "    mejor_constante = None\n",
    "    menor_diferencia = float('inf')\n",
    "    \n",
    "    for const in constantes:\n",
    "        dtco_df_cima[\"vp_faust\"] = const * (dtco_df_cima[\"tvdss_ft\"].values * dtco_df_cima[\"rp\"].values)**(1/6)\n",
    "        dtco_df_cima[\"dtco_faust\"] = 1000000 / dtco_df_cima[\"vp_faust\"].values\n",
    "        diferencia = np.abs(dtco_df_cima[\"dtco\"] - dtco_df_cima[\"dtco_faust\"]).sum()\n",
    "        \n",
    "        if diferencia < menor_diferencia:\n",
    "            mejor_constante = const\n",
    "            menor_diferencia = diferencia\n",
    "    \n",
    "    mejores_constantes[cima] = mejor_constante\n",
    "    \n",
    "    # Aplicamos la mejor constante y guardamos los resultados en la columna 'dtco_faust_op'\n",
    "    # well_df.loc[well_df[\"cima\"] == cima, \"dtco_faust_op\"] = 1000000 / (mejores_constantes[cima] * (dtco_df_cima[\"tvdss_ft\"].values * dtco_df_cima[\"rp\"].values)**(1/6))\n",
    "    # well_df.loc[well_df[\"cima\"] == cima, \"vp_faust_op\"] = mejores_constantes[cima] * (dtco_df_cima[\"tvdss_ft\"].values * dtco_df_cima[\"rp\"].values)** (1/6)\n",
    "\n",
    "    # Imprimimos las mejores constantes\n",
    "    print(f\"Mejor constante para {well_name} {cima}: {mejor_constante}\")"
   ]
  },
  {
   "cell_type": "markdown",
   "metadata": {},
   "source": [
    "## Carga y edicion de la información Pijije-25"
   ]
  },
  {
   "cell_type": "code",
   "execution_count": 8,
   "metadata": {},
   "outputs": [],
   "source": [
    "# Definimos la ruta de las cimas y la informacion de pozos a utilizar\n",
    "path_pozos = \"pozos\\Pijije-25_LQC.csv\"\n",
    "path_cimas = \"cimas\\Pijije-25_CIMAS.csv\"\n",
    "path_to_save = \"Resultados/dtco_faust_optimizado_pijije-25\"\n",
    "\n",
    "# Cargamos la informacion del pozo\n",
    "well_df = load_csv(path_pozos)\n",
    "\n",
    "# Cambiamos el tipo de de columnas a float\n",
    "columnas_convertir = [\"md\", \"rp\", \"dtco\", \"tvd\", \"tvdss\"]\n",
    "well_df[columnas_convertir] = well_df[columnas_convertir].astype(float)\n",
    "\n",
    "# Cargamos la informacion de cimas\n",
    "cimas_df = load_csv(path_cimas)\n",
    "\n",
    "# Cambiamos el tipo de columna a float\n",
    "cimas_df[\"md\"] = cimas_df[\"md\"].astype(float)\n",
    "\n",
    "# Ordena el DataFrame de cimas por 'MD' para asegurarte de que esté en el orden correcto\n",
    "cimas_df = cimas_df.sort_values(by='md')\n",
    "\n",
    "# Mapeamos las cimas con los registros de pozo \n",
    "well_df = map_cimas_to_depth(cimas_df, well_df)\n",
    "\n",
    "# Borramos los valores nulos\n",
    "well_df.dropna(inplace=True)\n",
    "\n",
    "# Obtenemos el nombre del pozo\n",
    "well_name = well_df[\"wellname\"].values[0]"
   ]
  },
  {
   "cell_type": "markdown",
   "metadata": {},
   "source": [
    "## Calculo de mejores constantes para Pijije-25"
   ]
  },
  {
   "cell_type": "code",
   "execution_count": 10,
   "metadata": {},
   "outputs": [
    {
     "name": "stdout",
     "output_type": "stream",
     "text": [
      "Mejor constante para Pijije-25 SAL: 1547\n",
      "Mejor constante para Pijije-25 TTNNO: 1395\n",
      "Mejor constante para Pijije-25 AGNV: 1740\n",
      "Mejor constante para Pijije-25 CRTCM: 1784\n",
      "Mejor constante para Pijije-25 CRTCE: 1992\n"
     ]
    }
   ],
   "source": [
    "# Convertimos los tvdss de m a ft\n",
    "well_df[\"tvdss_ft\"] = well_df[\"tvdss\"].values * 3.28084\n",
    "\n",
    "# Definimos un rango de valores de constante\n",
    "constantes = np.arange(500, 3000, 1)  # Cambia el rango según lo que necesites\n",
    "\n",
    "# Inicializamos variables para guardar las mejores constantes y las menores diferencias\n",
    "mejores_constantes = {}\n",
    "menores_diferencias = {}\n",
    "\n",
    "# Iteramos a través de las constantes y calculamos las diferencias para cada cima\n",
    "for cima in well_df[\"cima\"].unique():\n",
    "    dtco_df_cima = well_df[well_df[\"cima\"] == cima].copy()\n",
    "    mejor_constante = None\n",
    "    menor_diferencia = float('inf')\n",
    "    \n",
    "    for const in constantes:\n",
    "        dtco_df_cima[\"vp_faust\"] = const * (dtco_df_cima[\"tvdss_ft\"].values * dtco_df_cima[\"rp\"].values)**(1/6)\n",
    "        dtco_df_cima[\"dtco_faust\"] = 1000000 / dtco_df_cima[\"vp_faust\"].values\n",
    "        diferencia = np.abs(dtco_df_cima[\"dtco\"] - dtco_df_cima[\"dtco_faust\"]).sum()\n",
    "        \n",
    "        if diferencia < menor_diferencia:\n",
    "            mejor_constante = const\n",
    "            menor_diferencia = diferencia\n",
    "    \n",
    "    mejores_constantes[cima] = mejor_constante\n",
    "    \n",
    "    print(f\"Mejor constante para {well_name} {cima}: {mejor_constante}\")"
   ]
  },
  {
   "cell_type": "code",
   "execution_count": 6,
   "metadata": {},
   "outputs": [
    {
     "data": {
      "text/plain": [
       "{'KMMGN': 1003, 'SAL_B_TER': 1295, 'TTNNO': 1402, 'CRTCM': 1761, 'CRTCE': 1696}"
      ]
     },
     "execution_count": 6,
     "metadata": {},
     "output_type": "execute_result"
    }
   ],
   "source": [
    "mejores_constantes"
   ]
  },
  {
   "cell_type": "markdown",
   "metadata": {},
   "source": [
    "## Calculo de DTCO de Faust para pozos sin DTCO"
   ]
  },
  {
   "cell_type": "code",
   "execution_count": 4,
   "metadata": {},
   "outputs": [],
   "source": [
    "# Definimos una constante\n",
    "const = 1948\n",
    "\n",
    "# Convertimos los tvdss de m a ft\n",
    "well_df[\"tvdss_ft\"] = well_df[\"tvdss\"].values * 3.28084\n",
    "well_df[\"vp_faust\"] = const * (well_df[\"tvdss_ft\"].values * well_df[\"rp\"].values)** (1/6)\n",
    "well_df[\"dtco_faust\"] = 1000000/well_df[\"vp_faust\"].values\n",
    "\n",
    "# Guardamos el dtco_faust sin constante optimizada\n",
    "ruta = \"Resultados/dtco_faust_Pijije-13\"\n",
    "columnas_deseadas = [\"wellname\", \"md\", \"vp_faust\", \"dtco_faust\"]\n",
    "well_df[columnas_deseadas].to_csv(ruta, index=False)"
   ]
  },
  {
   "cell_type": "code",
   "execution_count": null,
   "metadata": {},
   "outputs": [],
   "source": [
    "# Definimos un rango de valores de donde vamos a buscar la constante de faust\n",
    "constantes = np.arange(500, 2500, 1)  # Cambia el rango según lo que necesites\n",
    "\n",
    "# Convertimos los tvdss de m a ft\n",
    "well_df[\"tvdss_ft\"] = well_df[\"tvdss\"].values * 3.28084\n",
    "\n",
    "# Inicializamos variables para guardar las mejores constantes y las menores diferencias\n",
    "mejores_constantes = {}\n",
    "menores_diferencias = {}\n",
    "\n",
    "# Iteramos a través de las constantes y calculamos las diferencias para cada cima\n",
    "for cima in well_df[\"cima\"].unique():\n",
    "    dtco_df_cima = well_df[well_df[\"cima\"] == cima].copy()\n",
    "    mejor_constante = None\n",
    "    menor_diferencia = float('inf')\n",
    "    \n",
    "    for const in constantes:\n",
    "        dtco_df_cima[\"vp_faust\"] = const * (dtco_df_cima[\"tvdss_ft\"].values * dtco_df_cima[\"rp\"].values)**(1/6)\n",
    "        dtco_df_cima[\"dtco_faust\"] = 1000000 / dtco_df_cima[\"vp_faust\"].values\n",
    "        diferencia = np.abs(dtco_df_cima[\"dtco\"] - dtco_df_cima[\"dtco_faust\"]).sum()\n",
    "        \n",
    "        if diferencia < menor_diferencia:\n",
    "            mejor_constante = const\n",
    "            menor_diferencia = diferencia\n",
    "    \n",
    "    mejores_constantes[cima] = mejor_constante\n",
    "    menores_diferencias[cima] = menor_diferencia\n",
    "    \n",
    "    # Aplicamos la mejor constante y guardamos los resultados en la columna 'dtco_faust_op'\n",
    "    well_df.loc[well_df[\"cima\"] == cima, \"dtco_faust_op\"] = 1000000 / (mejores_constantes[cima] * (dtco_df_cima[\"tvdss_ft\"].values * dtco_df_cima[\"rp\"].values)**(1/6))\n",
    "    \n",
    "    # Calculamos y mostramos la media del DTCO de Faust_op\n",
    "    media_faust = well_df[\"dtco_faust_op\"].mean()\n",
    "    print(f\"Media del DTCO de Faust para {cima}: {media_faust}\")\n",
    "\n",
    "# Imprimimos las mejores constantes y las menores diferencias por cima\n",
    "for cima, constante in mejores_constantes.items():\n",
    "    print(f\"Mejor constante para {cima}: {constante}\")\n",
    "for cima, diferencia in menores_diferencias.items():\n",
    "    print(f\"Menor diferencia para {cima}: {diferencia}\")"
   ]
  },
  {
   "cell_type": "code",
   "execution_count": null,
   "metadata": {},
   "outputs": [],
   "source": [
    "# Guardamos el dtco_faust con constante optimizada\n",
    "columnas_deseadas = [\"wellname\", \"md\", \"vp_faust_op\", \"dtco_faust_op\"]\n",
    "well_df[columnas_deseadas].to_csv(path_to_save, index=False)"
   ]
  }
 ],
 "metadata": {
  "kernelspec": {
   "display_name": "Python 3",
   "language": "python",
   "name": "python3"
  },
  "language_info": {
   "codemirror_mode": {
    "name": "ipython",
    "version": 3
   },
   "file_extension": ".py",
   "mimetype": "text/x-python",
   "name": "python",
   "nbconvert_exporter": "python",
   "pygments_lexer": "ipython3",
   "version": "3.11.4"
  },
  "orig_nbformat": 4
 },
 "nbformat": 4,
 "nbformat_minor": 2
}
