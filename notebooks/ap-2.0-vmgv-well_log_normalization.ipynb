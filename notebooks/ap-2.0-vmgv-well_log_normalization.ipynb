{
 "cells": [
  {
   "cell_type": "markdown",
   "metadata": {},
   "source": [
    "# Normalizacion de Registos de Pozo"
   ]
  },
  {
   "cell_type": "markdown",
   "metadata": {},
   "source": [
    "## Configuracion del Entorno de trabajo"
   ]
  },
  {
   "cell_type": "code",
   "execution_count": 8,
   "metadata": {},
   "outputs": [],
   "source": [
    "# Cargamos las librerias para cargar los datos al entorno de trabajo\n",
    "import pandas as pd\n",
    "import sys\n",
    "import os\n",
    "\n",
    "# Funciones importadas como modulos\n",
    "notebook_dir = os.getcwd()\n",
    "scripts_dir = os.path.join(notebook_dir, \"..\", \"src\")\n",
    "sys.path.append(scripts_dir)\n",
    "from data_transform.load_csv import load_csv\n",
    "from data_transform.map_cimas_to_depth_multiple import map_cimas_create_columns\n",
    "from data_transform.normalize_well_logs_by_cima import normalize_well_logs_by_cima\n",
    "from data_transform.print_unique_values import print_unique_values\n",
    "from data_transform.save_data_csv import save_data_csv\n",
    "\n",
    "# Codigo para imprimir mas de una salida de la misma celda\n",
    "from IPython.core.interactiveshell import InteractiveShell\n",
    "InteractiveShell.ast_node_interactivity = \"all\""
   ]
  },
  {
   "cell_type": "markdown",
   "metadata": {},
   "source": [
    "## Creamos un DataFrame de trabajo"
   ]
  },
  {
   "cell_type": "code",
   "execution_count": 10,
   "metadata": {},
   "outputs": [
    {
     "name": "stdout",
     "output_type": "stream",
     "text": [
      "======================================================================================================================================================\n",
      "Valores únicos en la columna 'cima': nan, fs_e1, fs_e2, fs_e3, fs_e4, fs_e5, fs_e6, fs_e7, fs_e8, fs_d1, fs_d2\n",
      "======================================================================================================================================================\n",
      "Valores únicos en la columna 'wellname': Arroyo Prieto-11, Arroyo Prieto-8\n",
      "======================================================================================================================================================\n"
     ]
    }
   ],
   "source": [
    "# Definimos la ruta de los registros a normalizar y sus cimas\n",
    "path_well_logs = os.path.join(notebook_dir, \"..\", \"data\", \"raw\", \"arroyo\", \"ap-11_8.csv\")\n",
    "path_well_tops = os.path.join(notebook_dir, \"..\", \"data\", \"raw\", \"arroyo\", \"cimas_ap.csv\")\n",
    "\n",
    "# Cargamos la informacion de los pozos\n",
    "well_logs_df = load_csv(path_well_logs)\n",
    "\n",
    "# verificamos que no exista ningun valor negativo en md\n",
    "well_logs_df = well_logs_df[well_logs_df[\"md\"] >= 0]\n",
    "\n",
    "# Cargamos la informacion de las cimas\n",
    "well_tops_df = load_csv(path_well_tops)\n",
    "\n",
    "# verificamos que no exista ningun valor negativo en md\n",
    "well_logs_df = well_logs_df[well_logs_df[\"md\"] >= 0]\n",
    "\n",
    "# Cargamos la informacion de las cimas\n",
    "well_tops_df = load_csv(path_well_tops)\n",
    "\n",
    "# Borramos la cima \"PT\"\n",
    "well_tops_df = well_tops_df[well_tops_df[\"surface\"] != \"PT\"]\n",
    "\n",
    "# Mapeamos las cimas con los registros de pozo \n",
    "arroyo_df = map_cimas_create_columns(well_tops_df, well_logs_df, True)\n",
    "\n",
    "# Imprimimos todas las cimas presentes en el DataFrame pijije_df\n",
    "print(\"=\"*150)\n",
    "print_unique_values(arroyo_df, \"cima\")\n",
    "print(\"=\"*150)\n",
    "print_unique_values(arroyo_df, \"wellname\")\n",
    "print(\"=\"*150)"
   ]
  },
  {
   "cell_type": "markdown",
   "metadata": {},
   "source": [
    "## Normalización"
   ]
  },
  {
   "cell_type": "code",
   "execution_count": 14,
   "metadata": {},
   "outputs": [
    {
     "ename": "KeyError",
     "evalue": "\"['dtcocima'] not in index\"",
     "output_type": "error",
     "traceback": [
      "\u001b[1;31m---------------------------------------------------------------------------\u001b[0m",
      "\u001b[1;31mKeyError\u001b[0m                                  Traceback (most recent call last)",
      "Cell \u001b[1;32mIn[14], line 2\u001b[0m\n\u001b[0;32m      1\u001b[0m \u001b[38;5;66;03m# Seleccionamos el DataFrame de interes\u001b[39;00m\n\u001b[1;32m----> 2\u001b[0m df \u001b[38;5;241m=\u001b[39m \u001b[43marroyo_df\u001b[49m\u001b[43m[\u001b[49m\u001b[43m[\u001b[49m\u001b[38;5;124;43m\"\u001b[39;49m\u001b[38;5;124;43mwellname\u001b[39;49m\u001b[38;5;124;43m\"\u001b[39;49m\u001b[43m,\u001b[49m\u001b[43m \u001b[49m\u001b[38;5;124;43m\"\u001b[39;49m\u001b[38;5;124;43mmd\u001b[39;49m\u001b[38;5;124;43m\"\u001b[39;49m\u001b[43m,\u001b[49m\u001b[43m \u001b[49m\u001b[38;5;124;43m\"\u001b[39;49m\u001b[38;5;124;43mdtco\u001b[39;49m\u001b[38;5;124;43m\"\u001b[39;49m\u001b[43m \u001b[49m\u001b[38;5;124;43m\"\u001b[39;49m\u001b[38;5;124;43mcima\u001b[39;49m\u001b[38;5;124;43m\"\u001b[39;49m\u001b[43m]\u001b[49m\u001b[43m]\u001b[49m\n\u001b[0;32m      4\u001b[0m \u001b[38;5;66;03m# Eliminamos todos los valores nulos\u001b[39;00m\n\u001b[0;32m      5\u001b[0m df\u001b[38;5;241m.\u001b[39mdropna(inplace\u001b[38;5;241m=\u001b[39m\u001b[38;5;28;01mTrue\u001b[39;00m)\n",
      "File \u001b[1;32md:\\Usuarios\\574905\\AppData\\Local\\Programs\\Python\\Python311\\Lib\\site-packages\\pandas\\core\\frame.py:3767\u001b[0m, in \u001b[0;36mDataFrame.__getitem__\u001b[1;34m(self, key)\u001b[0m\n\u001b[0;32m   3765\u001b[0m     \u001b[38;5;28;01mif\u001b[39;00m is_iterator(key):\n\u001b[0;32m   3766\u001b[0m         key \u001b[38;5;241m=\u001b[39m \u001b[38;5;28mlist\u001b[39m(key)\n\u001b[1;32m-> 3767\u001b[0m     indexer \u001b[38;5;241m=\u001b[39m \u001b[38;5;28;43mself\u001b[39;49m\u001b[38;5;241;43m.\u001b[39;49m\u001b[43mcolumns\u001b[49m\u001b[38;5;241;43m.\u001b[39;49m\u001b[43m_get_indexer_strict\u001b[49m\u001b[43m(\u001b[49m\u001b[43mkey\u001b[49m\u001b[43m,\u001b[49m\u001b[43m \u001b[49m\u001b[38;5;124;43m\"\u001b[39;49m\u001b[38;5;124;43mcolumns\u001b[39;49m\u001b[38;5;124;43m\"\u001b[39;49m\u001b[43m)\u001b[49m[\u001b[38;5;241m1\u001b[39m]\n\u001b[0;32m   3769\u001b[0m \u001b[38;5;66;03m# take() does not accept boolean indexers\u001b[39;00m\n\u001b[0;32m   3770\u001b[0m \u001b[38;5;28;01mif\u001b[39;00m \u001b[38;5;28mgetattr\u001b[39m(indexer, \u001b[38;5;124m\"\u001b[39m\u001b[38;5;124mdtype\u001b[39m\u001b[38;5;124m\"\u001b[39m, \u001b[38;5;28;01mNone\u001b[39;00m) \u001b[38;5;241m==\u001b[39m \u001b[38;5;28mbool\u001b[39m:\n",
      "File \u001b[1;32md:\\Usuarios\\574905\\AppData\\Local\\Programs\\Python\\Python311\\Lib\\site-packages\\pandas\\core\\indexes\\base.py:5877\u001b[0m, in \u001b[0;36mIndex._get_indexer_strict\u001b[1;34m(self, key, axis_name)\u001b[0m\n\u001b[0;32m   5874\u001b[0m \u001b[38;5;28;01melse\u001b[39;00m:\n\u001b[0;32m   5875\u001b[0m     keyarr, indexer, new_indexer \u001b[38;5;241m=\u001b[39m \u001b[38;5;28mself\u001b[39m\u001b[38;5;241m.\u001b[39m_reindex_non_unique(keyarr)\n\u001b[1;32m-> 5877\u001b[0m \u001b[38;5;28;43mself\u001b[39;49m\u001b[38;5;241;43m.\u001b[39;49m\u001b[43m_raise_if_missing\u001b[49m\u001b[43m(\u001b[49m\u001b[43mkeyarr\u001b[49m\u001b[43m,\u001b[49m\u001b[43m \u001b[49m\u001b[43mindexer\u001b[49m\u001b[43m,\u001b[49m\u001b[43m \u001b[49m\u001b[43maxis_name\u001b[49m\u001b[43m)\u001b[49m\n\u001b[0;32m   5879\u001b[0m keyarr \u001b[38;5;241m=\u001b[39m \u001b[38;5;28mself\u001b[39m\u001b[38;5;241m.\u001b[39mtake(indexer)\n\u001b[0;32m   5880\u001b[0m \u001b[38;5;28;01mif\u001b[39;00m \u001b[38;5;28misinstance\u001b[39m(key, Index):\n\u001b[0;32m   5881\u001b[0m     \u001b[38;5;66;03m# GH 42790 - Preserve name from an Index\u001b[39;00m\n",
      "File \u001b[1;32md:\\Usuarios\\574905\\AppData\\Local\\Programs\\Python\\Python311\\Lib\\site-packages\\pandas\\core\\indexes\\base.py:5941\u001b[0m, in \u001b[0;36mIndex._raise_if_missing\u001b[1;34m(self, key, indexer, axis_name)\u001b[0m\n\u001b[0;32m   5938\u001b[0m     \u001b[38;5;28;01mraise\u001b[39;00m \u001b[38;5;167;01mKeyError\u001b[39;00m(\u001b[38;5;124mf\u001b[39m\u001b[38;5;124m\"\u001b[39m\u001b[38;5;124mNone of [\u001b[39m\u001b[38;5;132;01m{\u001b[39;00mkey\u001b[38;5;132;01m}\u001b[39;00m\u001b[38;5;124m] are in the [\u001b[39m\u001b[38;5;132;01m{\u001b[39;00maxis_name\u001b[38;5;132;01m}\u001b[39;00m\u001b[38;5;124m]\u001b[39m\u001b[38;5;124m\"\u001b[39m)\n\u001b[0;32m   5940\u001b[0m not_found \u001b[38;5;241m=\u001b[39m \u001b[38;5;28mlist\u001b[39m(ensure_index(key)[missing_mask\u001b[38;5;241m.\u001b[39mnonzero()[\u001b[38;5;241m0\u001b[39m]]\u001b[38;5;241m.\u001b[39munique())\n\u001b[1;32m-> 5941\u001b[0m \u001b[38;5;28;01mraise\u001b[39;00m \u001b[38;5;167;01mKeyError\u001b[39;00m(\u001b[38;5;124mf\u001b[39m\u001b[38;5;124m\"\u001b[39m\u001b[38;5;132;01m{\u001b[39;00mnot_found\u001b[38;5;132;01m}\u001b[39;00m\u001b[38;5;124m not in index\u001b[39m\u001b[38;5;124m\"\u001b[39m)\n",
      "\u001b[1;31mKeyError\u001b[0m: \"['dtcocima'] not in index\""
     ]
    }
   ],
   "source": [
    "# Seleccionamos el DataFrame de interes\n",
    "df = arroyo_df[[\"wellname\", \"md\", \"dtco\", \"cima\"]]\n",
    "\n",
    "# Eliminamos todos los valores nulos\n",
    "df.dropna(inplace=True)\n",
    "\n",
    "# Seleccionamos los datos de las cimas de vamos a normalizar para cada arena\n",
    "cimas_interes = [\"fs_e1\", \"fs_e2\", \"fs_e3\", \"fs_e4\", \"fs_e5\", \"fs_e6\", \"fs_e7\", \"fs_e8\"]\n",
    "\n",
    "# Seleccionamos el pozo clave\n",
    "key_well = \"Arroyo Prieto-8\"\n",
    "\n",
    "# Seleccionar las curvas a normalizar\n",
    "curve_names = [\"dtco\"]\n",
    "\n",
    "# Seleccionamos los cuantiles para la normalización\n",
    "quanti_low = 0.03\n",
    "quanti_high = 0.97\n",
    "\n",
    "# Normalizamos las curvas por cima\n",
    "arroyo_normalizado_list = normalize_well_logs_by_cima(df, cimas_interes, key_well, curve_names, quanti_low, quanti_high)\n",
    "\n",
    "# Concatenar la lista de DataFrames en un solo DataFrame\n",
    "arroyo_normalizado_df = pd.concat(arroyo_normalizado_list, ignore_index=True)"
   ]
  },
  {
   "cell_type": "markdown",
   "metadata": {},
   "source": [
    "## Generación de CSV"
   ]
  },
  {
   "cell_type": "code",
   "execution_count": 6,
   "metadata": {},
   "outputs": [],
   "source": [
    "# Generamos un archivo csv con las curvas normalizados para los pozos de interes\n",
    "# Pozos de interes\n",
    "normalized_wells = [\"Pijije-25\"]\n",
    "\n",
    "# Guardamos la información de curvas normalizadas\n",
    "save_data_csv(pijije_normalizado_df, normalized_wells, \"dtsm_normalized.csv\")"
   ]
  }
 ],
 "metadata": {
  "kernelspec": {
   "display_name": "Python 3",
   "language": "python",
   "name": "python3"
  },
  "language_info": {
   "codemirror_mode": {
    "name": "ipython",
    "version": 3
   },
   "file_extension": ".py",
   "mimetype": "text/x-python",
   "name": "python",
   "nbconvert_exporter": "python",
   "pygments_lexer": "ipython3",
   "version": "3.11.4"
  }
 },
 "nbformat": 4,
 "nbformat_minor": 2
}
