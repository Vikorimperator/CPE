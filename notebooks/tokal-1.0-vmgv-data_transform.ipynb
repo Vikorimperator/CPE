{
 "cells": [
  {
   "cell_type": "markdown",
   "metadata": {},
   "source": [
    "# Transformación de los datos en bruto"
   ]
  },
  {
   "cell_type": "markdown",
   "metadata": {},
   "source": [
    "## Modulos a emplear"
   ]
  },
  {
   "cell_type": "code",
   "execution_count": 1,
   "metadata": {},
   "outputs": [],
   "source": [
    "# Importamos las librerias a utilizar\n",
    "import pandas as pd\n",
    "import numpy as np\n",
    "import sys\n",
    "import os\n",
    "\n",
    "# Definimos las rutas de los archivos a emplear\n",
    "notebook_dir = os.getcwd()\n",
    "scripts_dir = os.path.join(notebook_dir, \"..\", \"src\")\n",
    "sys.path.append(scripts_dir)\n",
    "\n",
    "# Funciones importadas como modulos\n",
    "from data_transform.load_csv import load_csv\n",
    "from data_transform.map_cimas_to_depth_multiple import map_cimas_create_columns\n",
    "\n",
    "# Codigo para imprimir mas de una salida de la misma celda\n",
    "from IPython.core.interactiveshell import InteractiveShell\n",
    "InteractiveShell.ast_node_interactivity = \"all\""
   ]
  },
  {
   "cell_type": "markdown",
   "metadata": {},
   "source": [
    "## Cargamos la informacion de los registros de pozo y cimas"
   ]
  },
  {
   "cell_type": "code",
   "execution_count": 2,
   "metadata": {},
   "outputs": [],
   "source": [
    "# Definimos las rutas de los registros de pozo y cimas \n",
    "logs_file_name = \"Registros_C-71_P-101_P-111.csv\"\n",
    "tops_file_name = \"Cimas_C-71_P-101_P-111 1.csv\"\n",
    "path_well_logs = os.path.join(notebook_dir, \"..\", \"data\", \"raw\", logs_file_name)\n",
    "path_well_tops = os.path.join(notebook_dir, \"..\", \"data\", \"raw\", tops_file_name)\n",
    "\n",
    "# Cargamos la informacion de los pozos\n",
    "well_logs_df = load_csv(path_well_logs)\n",
    "\n",
    "# Cambiamos el tipo de de columnas a float\n",
    "columnas_convertir = [\"md\", \"bound water_qe\", \"calcite_qe\", \"cgr\", \"dolomite_qe\", \"dtco\", \"gr\", \"vsh_qe\",\n",
    "                      \"illite_qe\", \"nphi\", \"por_qe\", \"pore_qe\", \"rhob\", \"rp\", \"sw_qe\", \"uoil_qe\", \"uwater_qe\"]\n",
    "\n",
    "well_logs_df[columnas_convertir] = well_logs_df[columnas_convertir].astype(float)\n",
    "\n",
    "# Verificamos que no exista ninguna valor negativo en md\n",
    "well_logs_df = well_logs_df[well_logs_df[\"md\"] >= 0]\n",
    "\n",
    "# Cargamos la informacion de las cimas\n",
    "well_tops_df = load_csv(path_well_tops)\n",
    "\n",
    "# Cambiamos el tipo de columna a float\n",
    "well_tops_df[\"md\"] = well_tops_df[\"md\"].astype(float)\n",
    "\n",
    "# Ordena el DataFrame de cimas por 'MD' para asegurarte de que esté en el orden correcto\n",
    "well_tops_df = well_tops_df.sort_values(by='md')\n",
    "\n",
    "# Borramos la cima \"PT\"\n",
    "well_tops_df = well_tops_df[well_tops_df[\"surface\"] != \"PT\"]"
   ]
  },
  {
   "cell_type": "markdown",
   "metadata": {},
   "source": [
    "## Juntamos las cimas con los pozos"
   ]
  },
  {
   "cell_type": "code",
   "execution_count": 3,
   "metadata": {},
   "outputs": [],
   "source": [
    "# Mapeamos las cimas con los registros de pozo \n",
    "cpe_df = map_cimas_create_columns(well_tops_df, well_logs_df, False)"
   ]
  },
  {
   "cell_type": "markdown",
   "metadata": {},
   "source": [
    "## Definimos el campo al que pertenecen los pozos"
   ]
  },
  {
   "cell_type": "code",
   "execution_count": 4,
   "metadata": {},
   "outputs": [],
   "source": [
    "# Definimos el campo al que pertenecen los pozos\n",
    "field = \"CPE\"\n",
    "cpe_df[\"field\"] = field"
   ]
  },
  {
   "cell_type": "markdown",
   "metadata": {},
   "source": [
    "## Creamos columnas cretacico y jurasico"
   ]
  },
  {
   "cell_type": "code",
   "execution_count": 5,
   "metadata": {},
   "outputs": [],
   "source": [
    "# Creamos la columna cretacico\n",
    "cpe_df[\"cretacico\"] = cpe_df[[\"mndz\", \"snfl\", \"agnv\", \"crtcm\", \"crti\"]].any(axis=1)\n",
    "\n",
    "# Creamos la columna jurasico\n",
    "cpe_df[\"jurasico\"] = cpe_df[[\"ttnno\", \"kmmgn\"]].any(axis=1)"
   ]
  },
  {
   "cell_type": "markdown",
   "metadata": {},
   "source": [
    "## Creamos la columna dolomia"
   ]
  },
  {
   "cell_type": "code",
   "execution_count": 6,
   "metadata": {},
   "outputs": [],
   "source": [
    "# Creamos una columna donde hay presencia de dolomia\n",
    "cpe_df[\"dolomia\"] = cpe_df[[\"ttnno\", \"kmmgn\"]].any(axis=1)"
   ]
  },
  {
   "cell_type": "markdown",
   "metadata": {},
   "source": [
    "## Creamos el DataSet con la informacion procesada"
   ]
  },
  {
   "cell_type": "code",
   "execution_count": 7,
   "metadata": {},
   "outputs": [],
   "source": [
    "# Guardamos el DataSet pijije_procesed en formato csv\n",
    "processed_file_name = \"cpe_eval.csv\"\n",
    "path_to_save = os.path.join(notebook_dir, \"..\", \"data\", \"processed\", processed_file_name)\n",
    "cpe_df.to_csv(path_to_save, index=False)"
   ]
  }
 ],
 "metadata": {
  "kernelspec": {
   "display_name": "Python 3",
   "language": "python",
   "name": "python3"
  },
  "language_info": {
   "codemirror_mode": {
    "name": "ipython",
    "version": 3
   },
   "file_extension": ".py",
   "mimetype": "text/x-python",
   "name": "python",
   "nbconvert_exporter": "python",
   "pygments_lexer": "ipython3",
   "version": "3.11.4"
  },
  "orig_nbformat": 4
 },
 "nbformat": 4,
 "nbformat_minor": 2
}
