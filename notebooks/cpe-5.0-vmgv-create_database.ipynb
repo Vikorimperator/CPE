{
    "cells": [
        {
            "cell_type": "code",
            "execution_count": 1,
            "metadata": {
                "azdata_cell_guid": "8f6ced62-cf89-48b6-8f9a-46d62704250a",
                "language": "sql",
                "tags": []
            },
            "outputs": [
                {
                    "data": {
                        "text/plain": [
                            "True"
                        ]
                    },
                    "execution_count": 1,
                    "metadata": {},
                    "output_type": "execute_result"
                }
            ],
            "source": [
                "# Cargamos los modulos a emplear\n",
                "from dotenv import load_dotenv\n",
                "from io import StringIO\n",
                "from psycopg2 import sql\n",
                "import psycopg2\n",
                "import pandas as pd\n",
                "import sys\n",
                "import os\n",
                "import time\n",
                "\n",
                "# Obtener el directorio actual del script\n",
                "file_dir = os.getcwd()\n",
                "\n",
                "# Agregamos el directorio 'src' al path\n",
                "src_dir = os.path.join(file_dir, '..', 'src')\n",
                "sys.path.append(src_dir)\n",
                "\n",
                "# Agregamos el directorio 'data_transform' al path\n",
                "data_transform_dir = os.path.join(src_dir, 'data_transform')\n",
                "sys.path.append(data_transform_dir)\n",
                "\n",
                "# Importamos la funcion load_csv\n",
                "from data_transform.load_csv import load_csv\n",
                "\n",
                "# Definimos la ruta del archivo csv\n",
                "cimas_file_name = 'cimas_cpe.csv'\n",
                "cimas = os.path.join(file_dir, '..', 'data', 'raw', cimas_file_name)\n",
                "\n",
                "# Cargamos variables de entorno\n",
                "load_dotenv()"
            ]
        },
        {
            "cell_type": "code",
            "execution_count": 17,
            "metadata": {},
            "outputs": [],
            "source": [
                "# Obtenemos los valores de las variables de entorno\n",
                "DB_NAME = os.getenv('DB_NAME')\n",
                "DB_USER = os.getenv('DB_USER')\n",
                "DB_PASSWORD = os.getenv('DB_PASSWORD')\n",
                "DB_HOST = os.getenv('DB_HOST')\n",
                "DB_PORT = os.getenv('DB_PORT')\n",
                "\n",
                "# Conexion a la base de datos\n",
                "conn = psycopg2.connect(\n",
                "    dbname=DB_NAME,\n",
                "    user=DB_USER,\n",
                "    password=DB_PASSWORD,\n",
                "    host=DB_HOST,\n",
                "    port=DB_PORT\n",
                ")"
            ]
        },
        {
            "cell_type": "code",
            "execution_count": 16,
            "metadata": {},
            "outputs": [
                {
                    "name": "stdout",
                    "output_type": "stream",
                    "text": [
                        "Inserción exitosa.\n"
                    ]
                }
            ],
            "source": [
                "# Creamos un cursor\n",
                "cur = conn.cursor()\n",
                "\n",
                "# # Definimos los valores del nuevo registro\n",
                "# surface = 'Ejemplocima'\n",
                "# pozo_id = 1\n",
                "# md = 125.55\n",
                "\n",
                "# # Imprimimos los valores que se van a insertar\n",
                "# print(f\"Intentando insertar: ('{surface}', {pozo_id}, {md})\")\n",
                "\n",
                "# Intentamos insertar el nuevo registro\n",
                "try:\n",
                "    cur.execute(\"INSERT INTO cimas (nombre_cima, pozo_id, cima_md, fecha_creacion, actualizado) VALUES ('Ejemplo_Cima', 2, 125.55, '2024-03-05 12:40:19.407', '2024-03-05 12:40:19.407')\")\n",
                "    print(\"Inserción exitosa.\")\n",
                "except Exception as e:\n",
                "    print(f\"Error al insertar el registro: {e}\")\n",
                "\n",
                "# Cerrar conexión\n",
                "cur.close()\n",
                "conn.close()"
            ]
        },
        {
            "cell_type": "code",
            "execution_count": 8,
            "metadata": {},
            "outputs": [
                {
                    "name": "stdout",
                    "output_type": "stream",
                    "text": [
                        "Estás conectado a la base de datos: petrofisica\n"
                    ]
                }
            ],
            "source": [
                "# Crear un cursor\n",
                "cur = conn.cursor()\n",
                "\n",
                "# Definir la consulta SQL para obtener el nombre de la base de datos\n",
                "query = \"SELECT current_database()\"\n",
                "\n",
                "# Ejecutar la consulta\n",
                "cur.execute(query)\n",
                "\n",
                "# Obtener el resultado de la consulta\n",
                "database_name = cur.fetchone()[0]\n",
                "\n",
                "# Imprimir el nombre de la base de datos\n",
                "print(f\"Estás conectado a la base de datos: {database_name}\")\n",
                "\n",
                "# Cerrar el cursor y la conexión\n",
                "cur.close()\n",
                "conn.close()"
            ]
        },
        {
            "cell_type": "code",
            "execution_count": 18,
            "metadata": {},
            "outputs": [
                {
                    "name": "stdout",
                    "output_type": "stream",
                    "text": [
                        "    0             1  2       3                          4  \\\n",
                        "0   4  Ejemplo_Cima  1  123.45 2024-03-05 12:40:19.407629   \n",
                        "1  10  Ejemplo_Cima  2  125.50                        NaT   \n",
                        "\n",
                        "                           5  \n",
                        "0 2024-03-05 12:40:19.407629  \n",
                        "1                        NaT  \n"
                    ]
                }
            ],
            "source": [
                "# Creamos un cursor\n",
                "cur = conn.cursor()\n",
                "\n",
                "# Definir la consulta SQL\n",
                "query = \"\"\"\n",
                "    SELECT *\n",
                "    FROM cimas\n",
                "\"\"\"\n",
                "\n",
                "# Ejecutar la consulta\n",
                "cur.execute(query)\n",
                "\n",
                "# Obtener los resultados de la consulta\n",
                "results = cur.fetchall()\n",
                "\n",
                "# Convertir los resultados a un DataFrame de pandas\n",
                "cimas_df = pd.DataFrame(results)\n",
                "\n",
                "# Mostrar los resultados\n",
                "print(cimas_df)\n",
                "\n",
                "# Cerrar conexión\n",
                "cur.close()\n",
                "conn.close()"
            ]
        }
    ],
    "metadata": {
        "kernelspec": {
            "display_name": "Python 3",
            "language": "python",
            "name": "python3"
        },
        "language_info": {
            "codemirror_mode": {
                "name": "ipython",
                "version": 3
            },
            "file_extension": ".py",
            "mimetype": "text/x-python",
            "name": "python",
            "nbconvert_exporter": "python",
            "pygments_lexer": "ipython3",
            "version": "3.11.4"
        }
    },
    "nbformat": 4,
    "nbformat_minor": 2
}
