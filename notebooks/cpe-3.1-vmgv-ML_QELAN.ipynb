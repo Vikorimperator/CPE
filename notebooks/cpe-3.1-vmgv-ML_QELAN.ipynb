{
 "cells": [
  {
   "cell_type": "markdown",
   "metadata": {},
   "source": [
    "# Machine Learning"
   ]
  },
  {
   "cell_type": "markdown",
   "metadata": {},
   "source": [
    "## Modulos a emplear"
   ]
  },
  {
   "cell_type": "code",
   "execution_count": 1,
   "metadata": {},
   "outputs": [],
   "source": [
    "# Importamos las librerias a utilizar\n",
    "import pandas as pd\n",
    "import numpy as np\n",
    "from sklearn.model_selection import train_test_split\n",
    "from sklearn.ensemble import RandomForestRegressor\n",
    "from sklearn.metrics import mean_squared_error\n",
    "from sklearn.preprocessing import FunctionTransformer, PolynomialFeatures, scale, StandardScaler\n",
    "from sklearn.decomposition import PCA\n",
    "import sys\n",
    "import os\n",
    "\n",
    "# Funciones importadas como modulos\n",
    "notebook_dir = os.getcwd()\n",
    "scripts_dir = os.path.join(notebook_dir, \"..\", \"src\")\n",
    "sys.path.append(scripts_dir)\n",
    "from data_transform.print_unique_values import print_unique_values\n",
    "\n",
    "# Codigo para imprimir mas de una salida de la misma celda\n",
    "from IPython.core.interactiveshell import InteractiveShell\n",
    "InteractiveShell.ast_node_interactivity = \"all\""
   ]
  },
  {
   "cell_type": "markdown",
   "metadata": {},
   "source": [
    "## Carga y selección de la Información"
   ]
  },
  {
   "cell_type": "markdown",
   "metadata": {},
   "source": [
    "### Seleccionamos la informacion del pozo clave y la editamos"
   ]
  },
  {
   "cell_type": "code",
   "execution_count": 2,
   "metadata": {},
   "outputs": [
    {
     "name": "stdout",
     "output_type": "stream",
     "text": [
      "Valores únicos en la columna 'wellname': Caparroso-71, Pijije-101, Pijije-111, Pijije-31REE, Pijije-123, Pijije-123REE, Pijije-125, Pijije-133, Pijije-2, Pijije-23, Pijije-25, Pijije-25REE2, Pijije-27, Pijije-34\n"
     ]
    }
   ],
   "source": [
    "# Definimos la ruta de la informacion procesada\n",
    "file_processed = \"cpe_eval.csv\"\n",
    "path_data_processed = os.path.join(notebook_dir, \"..\", \"data\", \"processed\", file_processed)\n",
    "\n",
    "# Cargamos la información procesada\n",
    "cpe_df = pd.read_csv(path_data_processed)\n",
    "\n",
    "# Mostramos los pozos en el DataFrame\n",
    "print_unique_values(cpe_df, \"wellname\")"
   ]
  },
  {
   "cell_type": "markdown",
   "metadata": {},
   "source": [
    "### Seleccionamos el pozo/pozos de interes para entrenar el modelo"
   ]
  },
  {
   "cell_type": "code",
   "execution_count": 4,
   "metadata": {},
   "outputs": [],
   "source": [
    "# Seleccionamos el pozo/los pozos de interes\n",
    "key_wells_lst = [\"Pijije-111\"]\n",
    "# Creamos el DataFrame key_well con la informacion de interes\n",
    "key_well = cpe_df[cpe_df[\"wellname\"].isin(key_wells_lst)].copy()\n",
    "\n",
    "# Definimos el pozo a predecir\n",
    "well_target = \"Pijije-101\"\n",
    "\n",
    "# Definos las cimas y registros para predecir\n",
    "key_well_tops = [\"cretacico\", \"jurasico\"]\n",
    "features = [\"gr\", \"rhob\", \"rp\", \"nphi\"]"
   ]
  },
  {
   "cell_type": "code",
   "execution_count": null,
   "metadata": {},
   "outputs": [],
   "source": [
    "acumulada_key_well = 14.096\n",
    "acumulada_well_target = 0.231"
   ]
  },
  {
   "cell_type": "markdown",
   "metadata": {},
   "source": [
    "## Machine Learning"
   ]
  },
  {
   "cell_type": "markdown",
   "metadata": {},
   "source": [
    "### Dolomite"
   ]
  },
  {
   "cell_type": "code",
   "execution_count": 5,
   "metadata": {},
   "outputs": [
    {
     "data": {
      "text/html": [
       "<style>#sk-container-id-1 {color: black;}#sk-container-id-1 pre{padding: 0;}#sk-container-id-1 div.sk-toggleable {background-color: white;}#sk-container-id-1 label.sk-toggleable__label {cursor: pointer;display: block;width: 100%;margin-bottom: 0;padding: 0.3em;box-sizing: border-box;text-align: center;}#sk-container-id-1 label.sk-toggleable__label-arrow:before {content: \"▸\";float: left;margin-right: 0.25em;color: #696969;}#sk-container-id-1 label.sk-toggleable__label-arrow:hover:before {color: black;}#sk-container-id-1 div.sk-estimator:hover label.sk-toggleable__label-arrow:before {color: black;}#sk-container-id-1 div.sk-toggleable__content {max-height: 0;max-width: 0;overflow: hidden;text-align: left;background-color: #f0f8ff;}#sk-container-id-1 div.sk-toggleable__content pre {margin: 0.2em;color: black;border-radius: 0.25em;background-color: #f0f8ff;}#sk-container-id-1 input.sk-toggleable__control:checked~div.sk-toggleable__content {max-height: 200px;max-width: 100%;overflow: auto;}#sk-container-id-1 input.sk-toggleable__control:checked~label.sk-toggleable__label-arrow:before {content: \"▾\";}#sk-container-id-1 div.sk-estimator input.sk-toggleable__control:checked~label.sk-toggleable__label {background-color: #d4ebff;}#sk-container-id-1 div.sk-label input.sk-toggleable__control:checked~label.sk-toggleable__label {background-color: #d4ebff;}#sk-container-id-1 input.sk-hidden--visually {border: 0;clip: rect(1px 1px 1px 1px);clip: rect(1px, 1px, 1px, 1px);height: 1px;margin: -1px;overflow: hidden;padding: 0;position: absolute;width: 1px;}#sk-container-id-1 div.sk-estimator {font-family: monospace;background-color: #f0f8ff;border: 1px dotted black;border-radius: 0.25em;box-sizing: border-box;margin-bottom: 0.5em;}#sk-container-id-1 div.sk-estimator:hover {background-color: #d4ebff;}#sk-container-id-1 div.sk-parallel-item::after {content: \"\";width: 100%;border-bottom: 1px solid gray;flex-grow: 1;}#sk-container-id-1 div.sk-label:hover label.sk-toggleable__label {background-color: #d4ebff;}#sk-container-id-1 div.sk-serial::before {content: \"\";position: absolute;border-left: 1px solid gray;box-sizing: border-box;top: 0;bottom: 0;left: 50%;z-index: 0;}#sk-container-id-1 div.sk-serial {display: flex;flex-direction: column;align-items: center;background-color: white;padding-right: 0.2em;padding-left: 0.2em;position: relative;}#sk-container-id-1 div.sk-item {position: relative;z-index: 1;}#sk-container-id-1 div.sk-parallel {display: flex;align-items: stretch;justify-content: center;background-color: white;position: relative;}#sk-container-id-1 div.sk-item::before, #sk-container-id-1 div.sk-parallel-item::before {content: \"\";position: absolute;border-left: 1px solid gray;box-sizing: border-box;top: 0;bottom: 0;left: 50%;z-index: -1;}#sk-container-id-1 div.sk-parallel-item {display: flex;flex-direction: column;z-index: 1;position: relative;background-color: white;}#sk-container-id-1 div.sk-parallel-item:first-child::after {align-self: flex-end;width: 50%;}#sk-container-id-1 div.sk-parallel-item:last-child::after {align-self: flex-start;width: 50%;}#sk-container-id-1 div.sk-parallel-item:only-child::after {width: 0;}#sk-container-id-1 div.sk-dashed-wrapped {border: 1px dashed gray;margin: 0 0.4em 0.5em 0.4em;box-sizing: border-box;padding-bottom: 0.4em;background-color: white;}#sk-container-id-1 div.sk-label label {font-family: monospace;font-weight: bold;display: inline-block;line-height: 1.2em;}#sk-container-id-1 div.sk-label-container {text-align: center;}#sk-container-id-1 div.sk-container {/* jupyter's `normalize.less` sets `[hidden] { display: none; }` but bootstrap.min.css set `[hidden] { display: none !important; }` so we also need the `!important` here to be able to override the default hidden behavior on the sphinx rendered scikit-learn.org. See: https://github.com/scikit-learn/scikit-learn/issues/21755 */display: inline-block !important;position: relative;}#sk-container-id-1 div.sk-text-repr-fallback {display: none;}</style><div id=\"sk-container-id-1\" class=\"sk-top-container\"><div class=\"sk-text-repr-fallback\"><pre>RandomForestRegressor(criterion=&#x27;poisson&#x27;, n_jobs=-1, random_state=50)</pre><b>In a Jupyter environment, please rerun this cell to show the HTML representation or trust the notebook. <br />On GitHub, the HTML representation is unable to render, please try loading this page with nbviewer.org.</b></div><div class=\"sk-container\" hidden><div class=\"sk-item\"><div class=\"sk-estimator sk-toggleable\"><input class=\"sk-toggleable__control sk-hidden--visually\" id=\"sk-estimator-id-1\" type=\"checkbox\" checked><label for=\"sk-estimator-id-1\" class=\"sk-toggleable__label sk-toggleable__label-arrow\">RandomForestRegressor</label><div class=\"sk-toggleable__content\"><pre>RandomForestRegressor(criterion=&#x27;poisson&#x27;, n_jobs=-1, random_state=50)</pre></div></div></div></div></div>"
      ],
      "text/plain": [
       "RandomForestRegressor(criterion='poisson', n_jobs=-1, random_state=50)"
      ]
     },
     "execution_count": 5,
     "metadata": {},
     "output_type": "execute_result"
    },
    {
     "name": "stdout",
     "output_type": "stream",
     "text": [
      "Random forest train/test RMSE:  0.024/0.038\n"
     ]
    }
   ],
   "source": [
    "# Definimos el target de interes\n",
    "target = [\"dolomite_qe\"]\n",
    "\n",
    "# Creamos un DataFrame con la informacion necesario para el modelo de Machine Learning\n",
    "key_well_df_ml = key_well[features + target + key_well_tops].copy()\n",
    "key_well_df_ml.dropna(inplace=True)\n",
    "\n",
    "# Definimos una variable con los features con los que entrenaremos nuestros modelo de ML y con la variable a predecir\n",
    "X = key_well_df_ml[features + key_well_tops]\n",
    "y = key_well_df_ml[target]\n",
    "\n",
    "# Separamos los valores en set de entramiento y prueba\n",
    "X_train, X_test, y_train, y_test = train_test_split(X, y, test_size=0.2, random_state=32)\n",
    "\n",
    "# Convertimos en un array 1D y_train\n",
    "y_train = y_train.values.ravel()\n",
    "\n",
    "# Definimos el modelo a emplear\n",
    "rf_regressor = RandomForestRegressor(bootstrap=True, n_jobs=-1, criterion=\"poisson\", random_state=50)\n",
    "\n",
    "# Ajustamos nuestro modelo a nuestros datos de entrenamiento\n",
    "rf_regressor.fit(X_train, y_train)\n",
    "\n",
    "# Evaluamos nuestro modelo\n",
    "y_train_pred = rf_regressor.predict(X_train)\n",
    "y_test_pred = rf_regressor.predict(X_test)\n",
    "\n",
    "rf_train = np.sqrt(mean_squared_error(y_train, y_train_pred))\n",
    "rf_test = np.sqrt(mean_squared_error(y_test, y_test_pred))\n",
    "\n",
    "print(f'Random forest train/test RMSE: {rf_train: .3f}/{rf_test:.3f}')"
   ]
  },
  {
   "cell_type": "code",
   "execution_count": 6,
   "metadata": {},
   "outputs": [],
   "source": [
    "# Creamos el DataFrame predict_well con la informacion del pozo de interes\n",
    "predict_well = cpe_df[cpe_df[\"wellname\"] == well_target].copy()\n",
    "predict_well = predict_well[[\"wellname\", \"md\"] + features + key_well_tops]\n",
    "predict_well.dropna(inplace=True)\n",
    "\n",
    "# Creamos un DataFrame con la informacion para predecir\n",
    "predict_well_ml = predict_well[features + key_well_tops].copy()\n",
    "\n",
    "# Aplicamos el modelo para generar el registro sintetico\n",
    "y_pred_well_log = rf_regressor.predict(predict_well_ml)\n",
    "\n",
    "# Creamos la columna del registro sintetico\n",
    "predict_well[target[0] +\"_syn\"] = y_pred_well_log\n",
    "\n",
    "# Guardamos la curva en el dataset del pozo objetivo\n",
    "qe_df = predict_well.copy()\n",
    "qe_df[target[0] +\"_syn\"] = predict_well[target[0] +\"_syn\"]"
   ]
  },
  {
   "cell_type": "markdown",
   "metadata": {},
   "source": [
    "### Ilite"
   ]
  },
  {
   "cell_type": "code",
   "execution_count": 7,
   "metadata": {},
   "outputs": [
    {
     "data": {
      "text/html": [
       "<style>#sk-container-id-2 {color: black;}#sk-container-id-2 pre{padding: 0;}#sk-container-id-2 div.sk-toggleable {background-color: white;}#sk-container-id-2 label.sk-toggleable__label {cursor: pointer;display: block;width: 100%;margin-bottom: 0;padding: 0.3em;box-sizing: border-box;text-align: center;}#sk-container-id-2 label.sk-toggleable__label-arrow:before {content: \"▸\";float: left;margin-right: 0.25em;color: #696969;}#sk-container-id-2 label.sk-toggleable__label-arrow:hover:before {color: black;}#sk-container-id-2 div.sk-estimator:hover label.sk-toggleable__label-arrow:before {color: black;}#sk-container-id-2 div.sk-toggleable__content {max-height: 0;max-width: 0;overflow: hidden;text-align: left;background-color: #f0f8ff;}#sk-container-id-2 div.sk-toggleable__content pre {margin: 0.2em;color: black;border-radius: 0.25em;background-color: #f0f8ff;}#sk-container-id-2 input.sk-toggleable__control:checked~div.sk-toggleable__content {max-height: 200px;max-width: 100%;overflow: auto;}#sk-container-id-2 input.sk-toggleable__control:checked~label.sk-toggleable__label-arrow:before {content: \"▾\";}#sk-container-id-2 div.sk-estimator input.sk-toggleable__control:checked~label.sk-toggleable__label {background-color: #d4ebff;}#sk-container-id-2 div.sk-label input.sk-toggleable__control:checked~label.sk-toggleable__label {background-color: #d4ebff;}#sk-container-id-2 input.sk-hidden--visually {border: 0;clip: rect(1px 1px 1px 1px);clip: rect(1px, 1px, 1px, 1px);height: 1px;margin: -1px;overflow: hidden;padding: 0;position: absolute;width: 1px;}#sk-container-id-2 div.sk-estimator {font-family: monospace;background-color: #f0f8ff;border: 1px dotted black;border-radius: 0.25em;box-sizing: border-box;margin-bottom: 0.5em;}#sk-container-id-2 div.sk-estimator:hover {background-color: #d4ebff;}#sk-container-id-2 div.sk-parallel-item::after {content: \"\";width: 100%;border-bottom: 1px solid gray;flex-grow: 1;}#sk-container-id-2 div.sk-label:hover label.sk-toggleable__label {background-color: #d4ebff;}#sk-container-id-2 div.sk-serial::before {content: \"\";position: absolute;border-left: 1px solid gray;box-sizing: border-box;top: 0;bottom: 0;left: 50%;z-index: 0;}#sk-container-id-2 div.sk-serial {display: flex;flex-direction: column;align-items: center;background-color: white;padding-right: 0.2em;padding-left: 0.2em;position: relative;}#sk-container-id-2 div.sk-item {position: relative;z-index: 1;}#sk-container-id-2 div.sk-parallel {display: flex;align-items: stretch;justify-content: center;background-color: white;position: relative;}#sk-container-id-2 div.sk-item::before, #sk-container-id-2 div.sk-parallel-item::before {content: \"\";position: absolute;border-left: 1px solid gray;box-sizing: border-box;top: 0;bottom: 0;left: 50%;z-index: -1;}#sk-container-id-2 div.sk-parallel-item {display: flex;flex-direction: column;z-index: 1;position: relative;background-color: white;}#sk-container-id-2 div.sk-parallel-item:first-child::after {align-self: flex-end;width: 50%;}#sk-container-id-2 div.sk-parallel-item:last-child::after {align-self: flex-start;width: 50%;}#sk-container-id-2 div.sk-parallel-item:only-child::after {width: 0;}#sk-container-id-2 div.sk-dashed-wrapped {border: 1px dashed gray;margin: 0 0.4em 0.5em 0.4em;box-sizing: border-box;padding-bottom: 0.4em;background-color: white;}#sk-container-id-2 div.sk-label label {font-family: monospace;font-weight: bold;display: inline-block;line-height: 1.2em;}#sk-container-id-2 div.sk-label-container {text-align: center;}#sk-container-id-2 div.sk-container {/* jupyter's `normalize.less` sets `[hidden] { display: none; }` but bootstrap.min.css set `[hidden] { display: none !important; }` so we also need the `!important` here to be able to override the default hidden behavior on the sphinx rendered scikit-learn.org. See: https://github.com/scikit-learn/scikit-learn/issues/21755 */display: inline-block !important;position: relative;}#sk-container-id-2 div.sk-text-repr-fallback {display: none;}</style><div id=\"sk-container-id-2\" class=\"sk-top-container\"><div class=\"sk-text-repr-fallback\"><pre>RandomForestRegressor(criterion=&#x27;poisson&#x27;, n_jobs=-1, random_state=50)</pre><b>In a Jupyter environment, please rerun this cell to show the HTML representation or trust the notebook. <br />On GitHub, the HTML representation is unable to render, please try loading this page with nbviewer.org.</b></div><div class=\"sk-container\" hidden><div class=\"sk-item\"><div class=\"sk-estimator sk-toggleable\"><input class=\"sk-toggleable__control sk-hidden--visually\" id=\"sk-estimator-id-2\" type=\"checkbox\" checked><label for=\"sk-estimator-id-2\" class=\"sk-toggleable__label sk-toggleable__label-arrow\">RandomForestRegressor</label><div class=\"sk-toggleable__content\"><pre>RandomForestRegressor(criterion=&#x27;poisson&#x27;, n_jobs=-1, random_state=50)</pre></div></div></div></div></div>"
      ],
      "text/plain": [
       "RandomForestRegressor(criterion='poisson', n_jobs=-1, random_state=50)"
      ]
     },
     "execution_count": 7,
     "metadata": {},
     "output_type": "execute_result"
    },
    {
     "name": "stdout",
     "output_type": "stream",
     "text": [
      "Random forest train/test RMSE:  0.004/0.011\n"
     ]
    }
   ],
   "source": [
    "# Definimos las columnas de interes\n",
    "target = [\"illite_qe\"]\n",
    "\n",
    "# Creamos un DataFrame con la informacion necesario para el modelo de Machine Learning\n",
    "key_well_df_ml = key_well[features + target + key_well_tops].copy()\n",
    "key_well_df_ml.dropna(inplace=True)\n",
    "\n",
    "# Definimos una variable con los features con los que entrenaremos nuestros modelo de ML y con la variable a predecir\n",
    "X = key_well_df_ml[features + key_well_tops]\n",
    "y = key_well_df_ml[target]\n",
    "\n",
    "# Separamos los valores en set de entramiento y prueba\n",
    "X_train, X_test, y_train, y_test = train_test_split(X, y, test_size=0.2, random_state=32)\n",
    "\n",
    "# Convertimos en un array 1D y_train\n",
    "y_train = y_train.values.ravel()\n",
    "\n",
    "# Definimos el modelo a emplear\n",
    "rf_regressor = RandomForestRegressor(bootstrap=True, n_jobs=-1, criterion=\"poisson\", random_state=50)\n",
    "\n",
    "# Ajustamos nuestro modelo a nuestros datos de entrenamiento\n",
    "rf_regressor.fit(X_train, y_train)\n",
    "\n",
    "# Evaluamos nuestro modelo\n",
    "y_train_pred = rf_regressor.predict(X_train)\n",
    "y_test_pred = rf_regressor.predict(X_test)\n",
    "\n",
    "rf_train = np.sqrt(mean_squared_error(y_train, y_train_pred))\n",
    "rf_test = np.sqrt(mean_squared_error(y_test, y_test_pred))\n",
    "\n",
    "print(f'Random forest train/test RMSE: {rf_train: .3f}/{rf_test:.3f}')"
   ]
  },
  {
   "cell_type": "code",
   "execution_count": 8,
   "metadata": {},
   "outputs": [],
   "source": [
    "# Creamos el DataFrame predict_well con la informacion del pozo de interes\n",
    "predict_well = cpe_df[cpe_df[\"wellname\"] == well_target].copy()\n",
    "predict_well = predict_well[[\"wellname\", \"md\"] + features + key_well_tops]\n",
    "\n",
    "predict_well.dropna(inplace=True)\n",
    "\n",
    "# Creamos un DataFrame con la informacion para predecir\n",
    "predict_well_ml = predict_well[features + key_well_tops].copy()\n",
    "\n",
    "# Aplicamos el modelo para generar el registro sintetico\n",
    "y_pred_well_log = rf_regressor.predict(predict_well_ml)\n",
    "\n",
    "# Creamos la columna del registro sintetico\n",
    "predict_well[target[0] +\"_syn\"] = y_pred_well_log\n",
    "\n",
    "# Guardamos la curva en el dataset del pozo objetivo\n",
    "qe_df[target[0] +\"_syn\"] = predict_well[target[0] +\"_syn\"]"
   ]
  },
  {
   "cell_type": "markdown",
   "metadata": {},
   "source": [
    "### Calcite"
   ]
  },
  {
   "cell_type": "code",
   "execution_count": 9,
   "metadata": {},
   "outputs": [
    {
     "data": {
      "text/html": [
       "<style>#sk-container-id-3 {color: black;}#sk-container-id-3 pre{padding: 0;}#sk-container-id-3 div.sk-toggleable {background-color: white;}#sk-container-id-3 label.sk-toggleable__label {cursor: pointer;display: block;width: 100%;margin-bottom: 0;padding: 0.3em;box-sizing: border-box;text-align: center;}#sk-container-id-3 label.sk-toggleable__label-arrow:before {content: \"▸\";float: left;margin-right: 0.25em;color: #696969;}#sk-container-id-3 label.sk-toggleable__label-arrow:hover:before {color: black;}#sk-container-id-3 div.sk-estimator:hover label.sk-toggleable__label-arrow:before {color: black;}#sk-container-id-3 div.sk-toggleable__content {max-height: 0;max-width: 0;overflow: hidden;text-align: left;background-color: #f0f8ff;}#sk-container-id-3 div.sk-toggleable__content pre {margin: 0.2em;color: black;border-radius: 0.25em;background-color: #f0f8ff;}#sk-container-id-3 input.sk-toggleable__control:checked~div.sk-toggleable__content {max-height: 200px;max-width: 100%;overflow: auto;}#sk-container-id-3 input.sk-toggleable__control:checked~label.sk-toggleable__label-arrow:before {content: \"▾\";}#sk-container-id-3 div.sk-estimator input.sk-toggleable__control:checked~label.sk-toggleable__label {background-color: #d4ebff;}#sk-container-id-3 div.sk-label input.sk-toggleable__control:checked~label.sk-toggleable__label {background-color: #d4ebff;}#sk-container-id-3 input.sk-hidden--visually {border: 0;clip: rect(1px 1px 1px 1px);clip: rect(1px, 1px, 1px, 1px);height: 1px;margin: -1px;overflow: hidden;padding: 0;position: absolute;width: 1px;}#sk-container-id-3 div.sk-estimator {font-family: monospace;background-color: #f0f8ff;border: 1px dotted black;border-radius: 0.25em;box-sizing: border-box;margin-bottom: 0.5em;}#sk-container-id-3 div.sk-estimator:hover {background-color: #d4ebff;}#sk-container-id-3 div.sk-parallel-item::after {content: \"\";width: 100%;border-bottom: 1px solid gray;flex-grow: 1;}#sk-container-id-3 div.sk-label:hover label.sk-toggleable__label {background-color: #d4ebff;}#sk-container-id-3 div.sk-serial::before {content: \"\";position: absolute;border-left: 1px solid gray;box-sizing: border-box;top: 0;bottom: 0;left: 50%;z-index: 0;}#sk-container-id-3 div.sk-serial {display: flex;flex-direction: column;align-items: center;background-color: white;padding-right: 0.2em;padding-left: 0.2em;position: relative;}#sk-container-id-3 div.sk-item {position: relative;z-index: 1;}#sk-container-id-3 div.sk-parallel {display: flex;align-items: stretch;justify-content: center;background-color: white;position: relative;}#sk-container-id-3 div.sk-item::before, #sk-container-id-3 div.sk-parallel-item::before {content: \"\";position: absolute;border-left: 1px solid gray;box-sizing: border-box;top: 0;bottom: 0;left: 50%;z-index: -1;}#sk-container-id-3 div.sk-parallel-item {display: flex;flex-direction: column;z-index: 1;position: relative;background-color: white;}#sk-container-id-3 div.sk-parallel-item:first-child::after {align-self: flex-end;width: 50%;}#sk-container-id-3 div.sk-parallel-item:last-child::after {align-self: flex-start;width: 50%;}#sk-container-id-3 div.sk-parallel-item:only-child::after {width: 0;}#sk-container-id-3 div.sk-dashed-wrapped {border: 1px dashed gray;margin: 0 0.4em 0.5em 0.4em;box-sizing: border-box;padding-bottom: 0.4em;background-color: white;}#sk-container-id-3 div.sk-label label {font-family: monospace;font-weight: bold;display: inline-block;line-height: 1.2em;}#sk-container-id-3 div.sk-label-container {text-align: center;}#sk-container-id-3 div.sk-container {/* jupyter's `normalize.less` sets `[hidden] { display: none; }` but bootstrap.min.css set `[hidden] { display: none !important; }` so we also need the `!important` here to be able to override the default hidden behavior on the sphinx rendered scikit-learn.org. See: https://github.com/scikit-learn/scikit-learn/issues/21755 */display: inline-block !important;position: relative;}#sk-container-id-3 div.sk-text-repr-fallback {display: none;}</style><div id=\"sk-container-id-3\" class=\"sk-top-container\"><div class=\"sk-text-repr-fallback\"><pre>RandomForestRegressor(criterion=&#x27;poisson&#x27;, n_jobs=-1, random_state=50)</pre><b>In a Jupyter environment, please rerun this cell to show the HTML representation or trust the notebook. <br />On GitHub, the HTML representation is unable to render, please try loading this page with nbviewer.org.</b></div><div class=\"sk-container\" hidden><div class=\"sk-item\"><div class=\"sk-estimator sk-toggleable\"><input class=\"sk-toggleable__control sk-hidden--visually\" id=\"sk-estimator-id-3\" type=\"checkbox\" checked><label for=\"sk-estimator-id-3\" class=\"sk-toggleable__label sk-toggleable__label-arrow\">RandomForestRegressor</label><div class=\"sk-toggleable__content\"><pre>RandomForestRegressor(criterion=&#x27;poisson&#x27;, n_jobs=-1, random_state=50)</pre></div></div></div></div></div>"
      ],
      "text/plain": [
       "RandomForestRegressor(criterion='poisson', n_jobs=-1, random_state=50)"
      ]
     },
     "execution_count": 9,
     "metadata": {},
     "output_type": "execute_result"
    },
    {
     "name": "stdout",
     "output_type": "stream",
     "text": [
      "Random forest train/test RMSE:  0.010/0.025\n"
     ]
    }
   ],
   "source": [
    "# Definimos el target de interes\n",
    "target = [\"calcite_qe\"]\n",
    "\n",
    "# Creamos un DataFrame con la informacion necesario para el modelo de Machine Learning\n",
    "key_well_df_ml = key_well[features + target + key_well_tops].copy()\n",
    "key_well_df_ml.dropna(inplace=True)\n",
    "\n",
    "# Definimos una variable con los features con los que entrenaremos nuestros modelo de ML y con la variable a predecir\n",
    "X = key_well_df_ml[features + key_well_tops]\n",
    "y = key_well_df_ml[target]\n",
    "\n",
    "# Separamos los valores en set de entramiento y prueba\n",
    "X_train, X_test, y_train, y_test = train_test_split(X, y, test_size=0.2, random_state=32)\n",
    "\n",
    "# Convertimos en un array 1D y_train\n",
    "y_train = y_train.values.ravel()\n",
    "\n",
    "# Definimos el modelo a emplear\n",
    "rf_regressor = RandomForestRegressor(bootstrap=True, n_jobs=-1, criterion=\"poisson\", random_state=50)\n",
    "\n",
    "# Ajustamos nuestro modelo a nuestros datos de entrenamiento\n",
    "rf_regressor.fit(X_train, y_train)\n",
    "\n",
    "# Evaluamos nuestro modelo\n",
    "y_train_pred = rf_regressor.predict(X_train)\n",
    "y_test_pred = rf_regressor.predict(X_test)\n",
    "\n",
    "rf_train = np.sqrt(mean_squared_error(y_train, y_train_pred))\n",
    "rf_test = np.sqrt(mean_squared_error(y_test, y_test_pred))\n",
    "\n",
    "print(f'Random forest train/test RMSE: {rf_train: .3f}/{rf_test:.3f}')"
   ]
  },
  {
   "cell_type": "code",
   "execution_count": 10,
   "metadata": {},
   "outputs": [],
   "source": [
    "# Creamos el DataFrame predict_well con la informacion del pozo de interes\n",
    "predict_well = cpe_df[cpe_df[\"wellname\"] == well_target].copy()\n",
    "predict_well = predict_well[[\"wellname\", \"md\"] + features + key_well_tops]\n",
    "predict_well.dropna(inplace=True)\n",
    "\n",
    "# Creamos un DataFrame con la informacion para predecir\n",
    "predict_well_ml = predict_well[features + key_well_tops].copy()\n",
    "\n",
    "# Aplicamos el modelo para generar el registro sintetico\n",
    "y_pred_well_log = rf_regressor.predict(predict_well_ml)\n",
    "\n",
    "# Creamos la columna del registro sintetico\n",
    "predict_well[target[0] +\"_syn\"] = y_pred_well_log\n",
    "\n",
    "# Guardamos la curva en el dataset del pozo objetivo\n",
    "qe_df[target[0] +\"_syn\"] = predict_well[target[0] +\"_syn\"]"
   ]
  },
  {
   "cell_type": "markdown",
   "metadata": {},
   "source": [
    "### SW"
   ]
  },
  {
   "cell_type": "code",
   "execution_count": 11,
   "metadata": {},
   "outputs": [
    {
     "data": {
      "text/html": [
       "<style>#sk-container-id-4 {color: black;}#sk-container-id-4 pre{padding: 0;}#sk-container-id-4 div.sk-toggleable {background-color: white;}#sk-container-id-4 label.sk-toggleable__label {cursor: pointer;display: block;width: 100%;margin-bottom: 0;padding: 0.3em;box-sizing: border-box;text-align: center;}#sk-container-id-4 label.sk-toggleable__label-arrow:before {content: \"▸\";float: left;margin-right: 0.25em;color: #696969;}#sk-container-id-4 label.sk-toggleable__label-arrow:hover:before {color: black;}#sk-container-id-4 div.sk-estimator:hover label.sk-toggleable__label-arrow:before {color: black;}#sk-container-id-4 div.sk-toggleable__content {max-height: 0;max-width: 0;overflow: hidden;text-align: left;background-color: #f0f8ff;}#sk-container-id-4 div.sk-toggleable__content pre {margin: 0.2em;color: black;border-radius: 0.25em;background-color: #f0f8ff;}#sk-container-id-4 input.sk-toggleable__control:checked~div.sk-toggleable__content {max-height: 200px;max-width: 100%;overflow: auto;}#sk-container-id-4 input.sk-toggleable__control:checked~label.sk-toggleable__label-arrow:before {content: \"▾\";}#sk-container-id-4 div.sk-estimator input.sk-toggleable__control:checked~label.sk-toggleable__label {background-color: #d4ebff;}#sk-container-id-4 div.sk-label input.sk-toggleable__control:checked~label.sk-toggleable__label {background-color: #d4ebff;}#sk-container-id-4 input.sk-hidden--visually {border: 0;clip: rect(1px 1px 1px 1px);clip: rect(1px, 1px, 1px, 1px);height: 1px;margin: -1px;overflow: hidden;padding: 0;position: absolute;width: 1px;}#sk-container-id-4 div.sk-estimator {font-family: monospace;background-color: #f0f8ff;border: 1px dotted black;border-radius: 0.25em;box-sizing: border-box;margin-bottom: 0.5em;}#sk-container-id-4 div.sk-estimator:hover {background-color: #d4ebff;}#sk-container-id-4 div.sk-parallel-item::after {content: \"\";width: 100%;border-bottom: 1px solid gray;flex-grow: 1;}#sk-container-id-4 div.sk-label:hover label.sk-toggleable__label {background-color: #d4ebff;}#sk-container-id-4 div.sk-serial::before {content: \"\";position: absolute;border-left: 1px solid gray;box-sizing: border-box;top: 0;bottom: 0;left: 50%;z-index: 0;}#sk-container-id-4 div.sk-serial {display: flex;flex-direction: column;align-items: center;background-color: white;padding-right: 0.2em;padding-left: 0.2em;position: relative;}#sk-container-id-4 div.sk-item {position: relative;z-index: 1;}#sk-container-id-4 div.sk-parallel {display: flex;align-items: stretch;justify-content: center;background-color: white;position: relative;}#sk-container-id-4 div.sk-item::before, #sk-container-id-4 div.sk-parallel-item::before {content: \"\";position: absolute;border-left: 1px solid gray;box-sizing: border-box;top: 0;bottom: 0;left: 50%;z-index: -1;}#sk-container-id-4 div.sk-parallel-item {display: flex;flex-direction: column;z-index: 1;position: relative;background-color: white;}#sk-container-id-4 div.sk-parallel-item:first-child::after {align-self: flex-end;width: 50%;}#sk-container-id-4 div.sk-parallel-item:last-child::after {align-self: flex-start;width: 50%;}#sk-container-id-4 div.sk-parallel-item:only-child::after {width: 0;}#sk-container-id-4 div.sk-dashed-wrapped {border: 1px dashed gray;margin: 0 0.4em 0.5em 0.4em;box-sizing: border-box;padding-bottom: 0.4em;background-color: white;}#sk-container-id-4 div.sk-label label {font-family: monospace;font-weight: bold;display: inline-block;line-height: 1.2em;}#sk-container-id-4 div.sk-label-container {text-align: center;}#sk-container-id-4 div.sk-container {/* jupyter's `normalize.less` sets `[hidden] { display: none; }` but bootstrap.min.css set `[hidden] { display: none !important; }` so we also need the `!important` here to be able to override the default hidden behavior on the sphinx rendered scikit-learn.org. See: https://github.com/scikit-learn/scikit-learn/issues/21755 */display: inline-block !important;position: relative;}#sk-container-id-4 div.sk-text-repr-fallback {display: none;}</style><div id=\"sk-container-id-4\" class=\"sk-top-container\"><div class=\"sk-text-repr-fallback\"><pre>RandomForestRegressor(n_jobs=-1, random_state=50)</pre><b>In a Jupyter environment, please rerun this cell to show the HTML representation or trust the notebook. <br />On GitHub, the HTML representation is unable to render, please try loading this page with nbviewer.org.</b></div><div class=\"sk-container\" hidden><div class=\"sk-item\"><div class=\"sk-estimator sk-toggleable\"><input class=\"sk-toggleable__control sk-hidden--visually\" id=\"sk-estimator-id-4\" type=\"checkbox\" checked><label for=\"sk-estimator-id-4\" class=\"sk-toggleable__label sk-toggleable__label-arrow\">RandomForestRegressor</label><div class=\"sk-toggleable__content\"><pre>RandomForestRegressor(n_jobs=-1, random_state=50)</pre></div></div></div></div></div>"
      ],
      "text/plain": [
       "RandomForestRegressor(n_jobs=-1, random_state=50)"
      ]
     },
     "execution_count": 11,
     "metadata": {},
     "output_type": "execute_result"
    },
    {
     "name": "stdout",
     "output_type": "stream",
     "text": [
      "Random forest train/test RMSE:  0.031/0.075\n"
     ]
    }
   ],
   "source": [
    "# Definimos el target de interes\n",
    "target = [\"sw_qe\"]\n",
    "\n",
    "# Creamos un DataFrame con la informacion necesario para el modelo de Machine Learning\n",
    "key_well_df_ml = key_well[features + target + key_well_tops].copy()\n",
    "key_well_df_ml.dropna(inplace=True)\n",
    "\n",
    "# Definimos una variable con los features con los que entrenaremos nuestros modelo de ML y con la variable a predecir\n",
    "X = key_well_df_ml[features + key_well_tops]\n",
    "y = key_well_df_ml[target]\n",
    "\n",
    "# Separamos los valores en set de entramiento y prueba\n",
    "X_train, X_test, y_train, y_test = train_test_split(X, y, test_size=0.2, random_state=32)\n",
    "\n",
    "# Convertimos en un array 1D y_train\n",
    "y_train = y_train.values.ravel()\n",
    "\n",
    "# Definimos el modelo a emplear\n",
    "rf_regressor = RandomForestRegressor(bootstrap=True, n_jobs=-1, criterion=\"squared_error\", random_state=50)\n",
    "\n",
    "# Ajustamos nuestro modelo a nuestros datos de entrenamiento\n",
    "rf_regressor.fit(X_train, y_train)\n",
    "\n",
    "# Evaluamos nuestro modelo\n",
    "y_train_pred = rf_regressor.predict(X_train)\n",
    "y_test_pred = rf_regressor.predict(X_test)\n",
    "\n",
    "rf_train = np.sqrt(mean_squared_error(y_train, y_train_pred))\n",
    "rf_test = np.sqrt(mean_squared_error(y_test, y_test_pred))\n",
    "\n",
    "print(f'Random forest train/test RMSE: {rf_train: .3f}/{rf_test:.3f}')"
   ]
  },
  {
   "cell_type": "code",
   "execution_count": 12,
   "metadata": {},
   "outputs": [],
   "source": [
    "# Creamos el DataFrame predict_well con la informacion del pozo de interes\n",
    "predict_well = cpe_df[cpe_df[\"wellname\"] == well_target].copy()\n",
    "predict_well = predict_well[[\"wellname\", \"md\"] + features + key_well_tops]\n",
    "predict_well.dropna(inplace=True)\n",
    "\n",
    "# Creamos un DataFrame con la informacion para predecir\n",
    "predict_well_ml = predict_well[features + key_well_tops].copy()\n",
    "\n",
    "# Aplicamos el modelo para generar el registro sintetico\n",
    "y_pred_well_log = rf_regressor.predict(predict_well_ml)\n",
    "\n",
    "# Creamos la columna del registro sintetico\n",
    "predict_well[target[0] +\"_syn\"] = y_pred_well_log\n",
    "\n",
    "# Guardamos la curva en el dataset del pozo objetivo\n",
    "qe_df[target[0] +\"_syn\"] = predict_well[target[0] +\"_syn\"]"
   ]
  },
  {
   "cell_type": "markdown",
   "metadata": {},
   "source": [
    "### Bound Water"
   ]
  },
  {
   "cell_type": "code",
   "execution_count": 13,
   "metadata": {},
   "outputs": [
    {
     "data": {
      "text/html": [
       "<style>#sk-container-id-5 {color: black;}#sk-container-id-5 pre{padding: 0;}#sk-container-id-5 div.sk-toggleable {background-color: white;}#sk-container-id-5 label.sk-toggleable__label {cursor: pointer;display: block;width: 100%;margin-bottom: 0;padding: 0.3em;box-sizing: border-box;text-align: center;}#sk-container-id-5 label.sk-toggleable__label-arrow:before {content: \"▸\";float: left;margin-right: 0.25em;color: #696969;}#sk-container-id-5 label.sk-toggleable__label-arrow:hover:before {color: black;}#sk-container-id-5 div.sk-estimator:hover label.sk-toggleable__label-arrow:before {color: black;}#sk-container-id-5 div.sk-toggleable__content {max-height: 0;max-width: 0;overflow: hidden;text-align: left;background-color: #f0f8ff;}#sk-container-id-5 div.sk-toggleable__content pre {margin: 0.2em;color: black;border-radius: 0.25em;background-color: #f0f8ff;}#sk-container-id-5 input.sk-toggleable__control:checked~div.sk-toggleable__content {max-height: 200px;max-width: 100%;overflow: auto;}#sk-container-id-5 input.sk-toggleable__control:checked~label.sk-toggleable__label-arrow:before {content: \"▾\";}#sk-container-id-5 div.sk-estimator input.sk-toggleable__control:checked~label.sk-toggleable__label {background-color: #d4ebff;}#sk-container-id-5 div.sk-label input.sk-toggleable__control:checked~label.sk-toggleable__label {background-color: #d4ebff;}#sk-container-id-5 input.sk-hidden--visually {border: 0;clip: rect(1px 1px 1px 1px);clip: rect(1px, 1px, 1px, 1px);height: 1px;margin: -1px;overflow: hidden;padding: 0;position: absolute;width: 1px;}#sk-container-id-5 div.sk-estimator {font-family: monospace;background-color: #f0f8ff;border: 1px dotted black;border-radius: 0.25em;box-sizing: border-box;margin-bottom: 0.5em;}#sk-container-id-5 div.sk-estimator:hover {background-color: #d4ebff;}#sk-container-id-5 div.sk-parallel-item::after {content: \"\";width: 100%;border-bottom: 1px solid gray;flex-grow: 1;}#sk-container-id-5 div.sk-label:hover label.sk-toggleable__label {background-color: #d4ebff;}#sk-container-id-5 div.sk-serial::before {content: \"\";position: absolute;border-left: 1px solid gray;box-sizing: border-box;top: 0;bottom: 0;left: 50%;z-index: 0;}#sk-container-id-5 div.sk-serial {display: flex;flex-direction: column;align-items: center;background-color: white;padding-right: 0.2em;padding-left: 0.2em;position: relative;}#sk-container-id-5 div.sk-item {position: relative;z-index: 1;}#sk-container-id-5 div.sk-parallel {display: flex;align-items: stretch;justify-content: center;background-color: white;position: relative;}#sk-container-id-5 div.sk-item::before, #sk-container-id-5 div.sk-parallel-item::before {content: \"\";position: absolute;border-left: 1px solid gray;box-sizing: border-box;top: 0;bottom: 0;left: 50%;z-index: -1;}#sk-container-id-5 div.sk-parallel-item {display: flex;flex-direction: column;z-index: 1;position: relative;background-color: white;}#sk-container-id-5 div.sk-parallel-item:first-child::after {align-self: flex-end;width: 50%;}#sk-container-id-5 div.sk-parallel-item:last-child::after {align-self: flex-start;width: 50%;}#sk-container-id-5 div.sk-parallel-item:only-child::after {width: 0;}#sk-container-id-5 div.sk-dashed-wrapped {border: 1px dashed gray;margin: 0 0.4em 0.5em 0.4em;box-sizing: border-box;padding-bottom: 0.4em;background-color: white;}#sk-container-id-5 div.sk-label label {font-family: monospace;font-weight: bold;display: inline-block;line-height: 1.2em;}#sk-container-id-5 div.sk-label-container {text-align: center;}#sk-container-id-5 div.sk-container {/* jupyter's `normalize.less` sets `[hidden] { display: none; }` but bootstrap.min.css set `[hidden] { display: none !important; }` so we also need the `!important` here to be able to override the default hidden behavior on the sphinx rendered scikit-learn.org. See: https://github.com/scikit-learn/scikit-learn/issues/21755 */display: inline-block !important;position: relative;}#sk-container-id-5 div.sk-text-repr-fallback {display: none;}</style><div id=\"sk-container-id-5\" class=\"sk-top-container\"><div class=\"sk-text-repr-fallback\"><pre>RandomForestRegressor(criterion=&#x27;poisson&#x27;, n_jobs=-1, random_state=50)</pre><b>In a Jupyter environment, please rerun this cell to show the HTML representation or trust the notebook. <br />On GitHub, the HTML representation is unable to render, please try loading this page with nbviewer.org.</b></div><div class=\"sk-container\" hidden><div class=\"sk-item\"><div class=\"sk-estimator sk-toggleable\"><input class=\"sk-toggleable__control sk-hidden--visually\" id=\"sk-estimator-id-5\" type=\"checkbox\" checked><label for=\"sk-estimator-id-5\" class=\"sk-toggleable__label sk-toggleable__label-arrow\">RandomForestRegressor</label><div class=\"sk-toggleable__content\"><pre>RandomForestRegressor(criterion=&#x27;poisson&#x27;, n_jobs=-1, random_state=50)</pre></div></div></div></div></div>"
      ],
      "text/plain": [
       "RandomForestRegressor(criterion='poisson', n_jobs=-1, random_state=50)"
      ]
     },
     "execution_count": 13,
     "metadata": {},
     "output_type": "execute_result"
    },
    {
     "name": "stdout",
     "output_type": "stream",
     "text": [
      "Random forest train/test RMSE:  0.000/0.001\n"
     ]
    }
   ],
   "source": [
    "# Definimos el target de interes\n",
    "target = [\"bound water_qe\"]\n",
    "\n",
    "# Creamos un DataFrame con la informacion necesario para el modelo de Machine Learning\n",
    "key_well_df_ml = key_well[features + target + key_well_tops].copy()\n",
    "key_well_df_ml.dropna(inplace=True)\n",
    "\n",
    "# Definimos una variable con los features con los que entrenaremos nuestros modelo de ML y con la variable a predecir\n",
    "X = key_well_df_ml[features + key_well_tops]\n",
    "y = key_well_df_ml[target]\n",
    "\n",
    "# Separamos los valores en set de entramiento y prueba\n",
    "X_train, X_test, y_train, y_test = train_test_split(X, y, test_size=0.2, random_state=32)\n",
    "\n",
    "# Convertimos en un array 1D y_train\n",
    "y_train = y_train.values.ravel()\n",
    "\n",
    "# Definimos el modelo a emplear\n",
    "rf_regressor = RandomForestRegressor(bootstrap=True, n_jobs=-1, criterion=\"poisson\", random_state=50)\n",
    "\n",
    "# Ajustamos nuestro modelo a nuestros datos de entrenamiento\n",
    "rf_regressor.fit(X_train, y_train)\n",
    "\n",
    "# Evaluamos nuestro modelo\n",
    "y_train_pred = rf_regressor.predict(X_train)\n",
    "y_test_pred = rf_regressor.predict(X_test)\n",
    "\n",
    "rf_train = np.sqrt(mean_squared_error(y_train, y_train_pred))\n",
    "rf_test = np.sqrt(mean_squared_error(y_test, y_test_pred))\n",
    "\n",
    "print(f'Random forest train/test RMSE: {rf_train: .3f}/{rf_test:.3f}')"
   ]
  },
  {
   "cell_type": "code",
   "execution_count": 14,
   "metadata": {},
   "outputs": [],
   "source": [
    "# Creamos el DataFrame predict_well con la informacion del pozo de interes\n",
    "predict_well = cpe_df[cpe_df[\"wellname\"] == well_target].copy()\n",
    "predict_well = predict_well[[\"wellname\", \"md\"] + features + key_well_tops]\n",
    "predict_well.dropna(inplace=True)\n",
    "\n",
    "# Creamos un DataFrame con la informacion para predecir\n",
    "predict_well_ml = predict_well[features + key_well_tops].copy()\n",
    "\n",
    "# Aplicamos el modelo para generar el registro sintetico\n",
    "y_pred_well_log = rf_regressor.predict(predict_well_ml)\n",
    "\n",
    "# Creamos la columna del registro sintetico\n",
    "predict_well[target[0] +\"_syn\"] = y_pred_well_log\n",
    "\n",
    "# Guardamos la curva en el dataset del pozo objetivo\n",
    "qe_df[target[0] +\"_syn\"] = predict_well[target[0] +\"_syn\"]"
   ]
  },
  {
   "cell_type": "markdown",
   "metadata": {},
   "source": [
    "### Uoil"
   ]
  },
  {
   "cell_type": "code",
   "execution_count": 15,
   "metadata": {},
   "outputs": [
    {
     "data": {
      "text/html": [
       "<style>#sk-container-id-6 {color: black;}#sk-container-id-6 pre{padding: 0;}#sk-container-id-6 div.sk-toggleable {background-color: white;}#sk-container-id-6 label.sk-toggleable__label {cursor: pointer;display: block;width: 100%;margin-bottom: 0;padding: 0.3em;box-sizing: border-box;text-align: center;}#sk-container-id-6 label.sk-toggleable__label-arrow:before {content: \"▸\";float: left;margin-right: 0.25em;color: #696969;}#sk-container-id-6 label.sk-toggleable__label-arrow:hover:before {color: black;}#sk-container-id-6 div.sk-estimator:hover label.sk-toggleable__label-arrow:before {color: black;}#sk-container-id-6 div.sk-toggleable__content {max-height: 0;max-width: 0;overflow: hidden;text-align: left;background-color: #f0f8ff;}#sk-container-id-6 div.sk-toggleable__content pre {margin: 0.2em;color: black;border-radius: 0.25em;background-color: #f0f8ff;}#sk-container-id-6 input.sk-toggleable__control:checked~div.sk-toggleable__content {max-height: 200px;max-width: 100%;overflow: auto;}#sk-container-id-6 input.sk-toggleable__control:checked~label.sk-toggleable__label-arrow:before {content: \"▾\";}#sk-container-id-6 div.sk-estimator input.sk-toggleable__control:checked~label.sk-toggleable__label {background-color: #d4ebff;}#sk-container-id-6 div.sk-label input.sk-toggleable__control:checked~label.sk-toggleable__label {background-color: #d4ebff;}#sk-container-id-6 input.sk-hidden--visually {border: 0;clip: rect(1px 1px 1px 1px);clip: rect(1px, 1px, 1px, 1px);height: 1px;margin: -1px;overflow: hidden;padding: 0;position: absolute;width: 1px;}#sk-container-id-6 div.sk-estimator {font-family: monospace;background-color: #f0f8ff;border: 1px dotted black;border-radius: 0.25em;box-sizing: border-box;margin-bottom: 0.5em;}#sk-container-id-6 div.sk-estimator:hover {background-color: #d4ebff;}#sk-container-id-6 div.sk-parallel-item::after {content: \"\";width: 100%;border-bottom: 1px solid gray;flex-grow: 1;}#sk-container-id-6 div.sk-label:hover label.sk-toggleable__label {background-color: #d4ebff;}#sk-container-id-6 div.sk-serial::before {content: \"\";position: absolute;border-left: 1px solid gray;box-sizing: border-box;top: 0;bottom: 0;left: 50%;z-index: 0;}#sk-container-id-6 div.sk-serial {display: flex;flex-direction: column;align-items: center;background-color: white;padding-right: 0.2em;padding-left: 0.2em;position: relative;}#sk-container-id-6 div.sk-item {position: relative;z-index: 1;}#sk-container-id-6 div.sk-parallel {display: flex;align-items: stretch;justify-content: center;background-color: white;position: relative;}#sk-container-id-6 div.sk-item::before, #sk-container-id-6 div.sk-parallel-item::before {content: \"\";position: absolute;border-left: 1px solid gray;box-sizing: border-box;top: 0;bottom: 0;left: 50%;z-index: -1;}#sk-container-id-6 div.sk-parallel-item {display: flex;flex-direction: column;z-index: 1;position: relative;background-color: white;}#sk-container-id-6 div.sk-parallel-item:first-child::after {align-self: flex-end;width: 50%;}#sk-container-id-6 div.sk-parallel-item:last-child::after {align-self: flex-start;width: 50%;}#sk-container-id-6 div.sk-parallel-item:only-child::after {width: 0;}#sk-container-id-6 div.sk-dashed-wrapped {border: 1px dashed gray;margin: 0 0.4em 0.5em 0.4em;box-sizing: border-box;padding-bottom: 0.4em;background-color: white;}#sk-container-id-6 div.sk-label label {font-family: monospace;font-weight: bold;display: inline-block;line-height: 1.2em;}#sk-container-id-6 div.sk-label-container {text-align: center;}#sk-container-id-6 div.sk-container {/* jupyter's `normalize.less` sets `[hidden] { display: none; }` but bootstrap.min.css set `[hidden] { display: none !important; }` so we also need the `!important` here to be able to override the default hidden behavior on the sphinx rendered scikit-learn.org. See: https://github.com/scikit-learn/scikit-learn/issues/21755 */display: inline-block !important;position: relative;}#sk-container-id-6 div.sk-text-repr-fallback {display: none;}</style><div id=\"sk-container-id-6\" class=\"sk-top-container\"><div class=\"sk-text-repr-fallback\"><pre>RandomForestRegressor(criterion=&#x27;poisson&#x27;, n_jobs=-1, random_state=50)</pre><b>In a Jupyter environment, please rerun this cell to show the HTML representation or trust the notebook. <br />On GitHub, the HTML representation is unable to render, please try loading this page with nbviewer.org.</b></div><div class=\"sk-container\" hidden><div class=\"sk-item\"><div class=\"sk-estimator sk-toggleable\"><input class=\"sk-toggleable__control sk-hidden--visually\" id=\"sk-estimator-id-6\" type=\"checkbox\" checked><label for=\"sk-estimator-id-6\" class=\"sk-toggleable__label sk-toggleable__label-arrow\">RandomForestRegressor</label><div class=\"sk-toggleable__content\"><pre>RandomForestRegressor(criterion=&#x27;poisson&#x27;, n_jobs=-1, random_state=50)</pre></div></div></div></div></div>"
      ],
      "text/plain": [
       "RandomForestRegressor(criterion='poisson', n_jobs=-1, random_state=50)"
      ]
     },
     "execution_count": 15,
     "metadata": {},
     "output_type": "execute_result"
    },
    {
     "name": "stdout",
     "output_type": "stream",
     "text": [
      "Random forest train/test RMSE:  0.001/0.003\n"
     ]
    }
   ],
   "source": [
    "# Definimos el target de interes\n",
    "target = [\"uoil_qe\"]\n",
    "\n",
    "# Creamos un DataFrame con la informacion necesario para el modelo de Machine Learning\n",
    "key_well_df_ml = key_well[features + target + key_well_tops].copy()\n",
    "key_well_df_ml.dropna(inplace=True)\n",
    "\n",
    "# Definimos una variable con los features con los que entrenaremos nuestros modelo de ML y con la variable a predecir\n",
    "X = key_well_df_ml[features + key_well_tops]\n",
    "y = key_well_df_ml[target]\n",
    "\n",
    "# Separamos los valores en set de entramiento y prueba\n",
    "X_train, X_test, y_train, y_test = train_test_split(X, y, test_size=0.2, random_state=32)\n",
    "\n",
    "# Convertimos en un array 1D y_train\n",
    "y_train = y_train.values.ravel()\n",
    "\n",
    "# Definimos el modelo a emplear\n",
    "rf_regressor = RandomForestRegressor(bootstrap=True, n_jobs=-1, criterion=\"poisson\", random_state=50)\n",
    "\n",
    "# Ajustamos nuestro modelo a nuestros datos de entrenamiento\n",
    "rf_regressor.fit(X_train, y_train)\n",
    "\n",
    "# Evaluamos nuestro modelo\n",
    "y_train_pred = rf_regressor.predict(X_train)\n",
    "y_test_pred = rf_regressor.predict(X_test)\n",
    "\n",
    "rf_train = np.sqrt(mean_squared_error(y_train, y_train_pred))\n",
    "rf_test = np.sqrt(mean_squared_error(y_test, y_test_pred))\n",
    "\n",
    "print(f'Random forest train/test RMSE: {rf_train: .3f}/{rf_test:.3f}')"
   ]
  },
  {
   "cell_type": "code",
   "execution_count": 16,
   "metadata": {},
   "outputs": [],
   "source": [
    "# Creamos el DataFrame predict_well con la informacion del pozo de interes\n",
    "predict_well = cpe_df[cpe_df[\"wellname\"] == well_target].copy()\n",
    "predict_well = predict_well[[\"wellname\", \"md\"] + features + key_well_tops]\n",
    "predict_well.dropna(inplace=True)\n",
    "\n",
    "# Creamos un DataFrame con la informacion para predecir\n",
    "predict_well_ml = predict_well[features + key_well_tops].copy()\n",
    "\n",
    "# Aplicamos el modelo para generar el registro sintetico\n",
    "y_pred_well_log = rf_regressor.predict(predict_well_ml)\n",
    "\n",
    "# Creamos la columna del registro sintetico\n",
    "predict_well[target[0] +\"_syn\"] = y_pred_well_log\n",
    "\n",
    "# Guardamos la curva en el dataset del pozo objetivo\n",
    "qe_df[target[0] +\"_syn\"] = predict_well[target[0] +\"_syn\"]"
   ]
  },
  {
   "cell_type": "markdown",
   "metadata": {},
   "source": [
    "### Uwater"
   ]
  },
  {
   "cell_type": "code",
   "execution_count": 17,
   "metadata": {},
   "outputs": [
    {
     "data": {
      "text/html": [
       "<style>#sk-container-id-7 {color: black;}#sk-container-id-7 pre{padding: 0;}#sk-container-id-7 div.sk-toggleable {background-color: white;}#sk-container-id-7 label.sk-toggleable__label {cursor: pointer;display: block;width: 100%;margin-bottom: 0;padding: 0.3em;box-sizing: border-box;text-align: center;}#sk-container-id-7 label.sk-toggleable__label-arrow:before {content: \"▸\";float: left;margin-right: 0.25em;color: #696969;}#sk-container-id-7 label.sk-toggleable__label-arrow:hover:before {color: black;}#sk-container-id-7 div.sk-estimator:hover label.sk-toggleable__label-arrow:before {color: black;}#sk-container-id-7 div.sk-toggleable__content {max-height: 0;max-width: 0;overflow: hidden;text-align: left;background-color: #f0f8ff;}#sk-container-id-7 div.sk-toggleable__content pre {margin: 0.2em;color: black;border-radius: 0.25em;background-color: #f0f8ff;}#sk-container-id-7 input.sk-toggleable__control:checked~div.sk-toggleable__content {max-height: 200px;max-width: 100%;overflow: auto;}#sk-container-id-7 input.sk-toggleable__control:checked~label.sk-toggleable__label-arrow:before {content: \"▾\";}#sk-container-id-7 div.sk-estimator input.sk-toggleable__control:checked~label.sk-toggleable__label {background-color: #d4ebff;}#sk-container-id-7 div.sk-label input.sk-toggleable__control:checked~label.sk-toggleable__label {background-color: #d4ebff;}#sk-container-id-7 input.sk-hidden--visually {border: 0;clip: rect(1px 1px 1px 1px);clip: rect(1px, 1px, 1px, 1px);height: 1px;margin: -1px;overflow: hidden;padding: 0;position: absolute;width: 1px;}#sk-container-id-7 div.sk-estimator {font-family: monospace;background-color: #f0f8ff;border: 1px dotted black;border-radius: 0.25em;box-sizing: border-box;margin-bottom: 0.5em;}#sk-container-id-7 div.sk-estimator:hover {background-color: #d4ebff;}#sk-container-id-7 div.sk-parallel-item::after {content: \"\";width: 100%;border-bottom: 1px solid gray;flex-grow: 1;}#sk-container-id-7 div.sk-label:hover label.sk-toggleable__label {background-color: #d4ebff;}#sk-container-id-7 div.sk-serial::before {content: \"\";position: absolute;border-left: 1px solid gray;box-sizing: border-box;top: 0;bottom: 0;left: 50%;z-index: 0;}#sk-container-id-7 div.sk-serial {display: flex;flex-direction: column;align-items: center;background-color: white;padding-right: 0.2em;padding-left: 0.2em;position: relative;}#sk-container-id-7 div.sk-item {position: relative;z-index: 1;}#sk-container-id-7 div.sk-parallel {display: flex;align-items: stretch;justify-content: center;background-color: white;position: relative;}#sk-container-id-7 div.sk-item::before, #sk-container-id-7 div.sk-parallel-item::before {content: \"\";position: absolute;border-left: 1px solid gray;box-sizing: border-box;top: 0;bottom: 0;left: 50%;z-index: -1;}#sk-container-id-7 div.sk-parallel-item {display: flex;flex-direction: column;z-index: 1;position: relative;background-color: white;}#sk-container-id-7 div.sk-parallel-item:first-child::after {align-self: flex-end;width: 50%;}#sk-container-id-7 div.sk-parallel-item:last-child::after {align-self: flex-start;width: 50%;}#sk-container-id-7 div.sk-parallel-item:only-child::after {width: 0;}#sk-container-id-7 div.sk-dashed-wrapped {border: 1px dashed gray;margin: 0 0.4em 0.5em 0.4em;box-sizing: border-box;padding-bottom: 0.4em;background-color: white;}#sk-container-id-7 div.sk-label label {font-family: monospace;font-weight: bold;display: inline-block;line-height: 1.2em;}#sk-container-id-7 div.sk-label-container {text-align: center;}#sk-container-id-7 div.sk-container {/* jupyter's `normalize.less` sets `[hidden] { display: none; }` but bootstrap.min.css set `[hidden] { display: none !important; }` so we also need the `!important` here to be able to override the default hidden behavior on the sphinx rendered scikit-learn.org. See: https://github.com/scikit-learn/scikit-learn/issues/21755 */display: inline-block !important;position: relative;}#sk-container-id-7 div.sk-text-repr-fallback {display: none;}</style><div id=\"sk-container-id-7\" class=\"sk-top-container\"><div class=\"sk-text-repr-fallback\"><pre>RandomForestRegressor(criterion=&#x27;poisson&#x27;, n_jobs=-1, random_state=50)</pre><b>In a Jupyter environment, please rerun this cell to show the HTML representation or trust the notebook. <br />On GitHub, the HTML representation is unable to render, please try loading this page with nbviewer.org.</b></div><div class=\"sk-container\" hidden><div class=\"sk-item\"><div class=\"sk-estimator sk-toggleable\"><input class=\"sk-toggleable__control sk-hidden--visually\" id=\"sk-estimator-id-7\" type=\"checkbox\" checked><label for=\"sk-estimator-id-7\" class=\"sk-toggleable__label sk-toggleable__label-arrow\">RandomForestRegressor</label><div class=\"sk-toggleable__content\"><pre>RandomForestRegressor(criterion=&#x27;poisson&#x27;, n_jobs=-1, random_state=50)</pre></div></div></div></div></div>"
      ],
      "text/plain": [
       "RandomForestRegressor(criterion='poisson', n_jobs=-1, random_state=50)"
      ]
     },
     "execution_count": 17,
     "metadata": {},
     "output_type": "execute_result"
    },
    {
     "name": "stdout",
     "output_type": "stream",
     "text": [
      "Random forest train/test RMSE:  0.001/0.003\n"
     ]
    }
   ],
   "source": [
    "# Definimos el target de interes\n",
    "target = [\"uwater_qe\"]\n",
    "\n",
    "# Creamos un DataFrame con la informacion necesario para el modelo de Machine Learning\n",
    "key_well_df_ml = key_well[features + target + key_well_tops].copy()\n",
    "key_well_df_ml.dropna(inplace=True)\n",
    "\n",
    "# Definimos una variable con los features con los que entrenaremos nuestros modelo de ML y con la variable a predecir\n",
    "X = key_well_df_ml[features + key_well_tops]\n",
    "y = key_well_df_ml[target]\n",
    "\n",
    "# Separamos los valores en set de entramiento y prueba\n",
    "X_train, X_test, y_train, y_test = train_test_split(X, y, test_size=0.2, random_state=32)\n",
    "\n",
    "# Convertimos en un array 1D y_train\n",
    "y_train = y_train.values.ravel()\n",
    "\n",
    "# Definimos el modelo a emplear\n",
    "rf_regressor = RandomForestRegressor(bootstrap=True, n_jobs=-1, criterion=\"poisson\", random_state=50)\n",
    "\n",
    "# Ajustamos nuestro modelo a nuestros datos de entrenamiento\n",
    "rf_regressor.fit(X_train, y_train)\n",
    "\n",
    "# Evaluamos nuestro modelo\n",
    "y_train_pred = rf_regressor.predict(X_train)\n",
    "y_test_pred = rf_regressor.predict(X_test)\n",
    "\n",
    "rf_train = np.sqrt(mean_squared_error(y_train, y_train_pred))\n",
    "rf_test = np.sqrt(mean_squared_error(y_test, y_test_pred))\n",
    "\n",
    "print(f'Random forest train/test RMSE: {rf_train: .3f}/{rf_test:.3f}')"
   ]
  },
  {
   "cell_type": "code",
   "execution_count": 18,
   "metadata": {},
   "outputs": [],
   "source": [
    "# Creamos el DataFrame predict_well con la informacion del pozo de interes\n",
    "predict_well = cpe_df[cpe_df[\"wellname\"] == well_target].copy()\n",
    "predict_well = predict_well[[\"wellname\", \"md\"] + features + key_well_tops]\n",
    "predict_well.dropna(inplace=True)\n",
    "\n",
    "# Creamos un DataFrame con la informacion para predecir\n",
    "predict_well_ml = predict_well[features + key_well_tops].copy()\n",
    "\n",
    "# Aplicamos el modelo para generar el registro sintetico\n",
    "y_pred_well_log = rf_regressor.predict(predict_well_ml)\n",
    "\n",
    "# Creamos la columna del registro sintetico\n",
    "predict_well[target[0] +\"_syn\"] = y_pred_well_log\n",
    "\n",
    "# Guardamos la curva en el dataset del pozo objetivo\n",
    "qe_df[target[0] +\"_syn\"] = predict_well[target[0] +\"_syn\"]"
   ]
  },
  {
   "cell_type": "markdown",
   "metadata": {},
   "source": [
    "### PHIT"
   ]
  },
  {
   "cell_type": "code",
   "execution_count": 19,
   "metadata": {},
   "outputs": [
    {
     "data": {
      "text/html": [
       "<style>#sk-container-id-8 {color: black;}#sk-container-id-8 pre{padding: 0;}#sk-container-id-8 div.sk-toggleable {background-color: white;}#sk-container-id-8 label.sk-toggleable__label {cursor: pointer;display: block;width: 100%;margin-bottom: 0;padding: 0.3em;box-sizing: border-box;text-align: center;}#sk-container-id-8 label.sk-toggleable__label-arrow:before {content: \"▸\";float: left;margin-right: 0.25em;color: #696969;}#sk-container-id-8 label.sk-toggleable__label-arrow:hover:before {color: black;}#sk-container-id-8 div.sk-estimator:hover label.sk-toggleable__label-arrow:before {color: black;}#sk-container-id-8 div.sk-toggleable__content {max-height: 0;max-width: 0;overflow: hidden;text-align: left;background-color: #f0f8ff;}#sk-container-id-8 div.sk-toggleable__content pre {margin: 0.2em;color: black;border-radius: 0.25em;background-color: #f0f8ff;}#sk-container-id-8 input.sk-toggleable__control:checked~div.sk-toggleable__content {max-height: 200px;max-width: 100%;overflow: auto;}#sk-container-id-8 input.sk-toggleable__control:checked~label.sk-toggleable__label-arrow:before {content: \"▾\";}#sk-container-id-8 div.sk-estimator input.sk-toggleable__control:checked~label.sk-toggleable__label {background-color: #d4ebff;}#sk-container-id-8 div.sk-label input.sk-toggleable__control:checked~label.sk-toggleable__label {background-color: #d4ebff;}#sk-container-id-8 input.sk-hidden--visually {border: 0;clip: rect(1px 1px 1px 1px);clip: rect(1px, 1px, 1px, 1px);height: 1px;margin: -1px;overflow: hidden;padding: 0;position: absolute;width: 1px;}#sk-container-id-8 div.sk-estimator {font-family: monospace;background-color: #f0f8ff;border: 1px dotted black;border-radius: 0.25em;box-sizing: border-box;margin-bottom: 0.5em;}#sk-container-id-8 div.sk-estimator:hover {background-color: #d4ebff;}#sk-container-id-8 div.sk-parallel-item::after {content: \"\";width: 100%;border-bottom: 1px solid gray;flex-grow: 1;}#sk-container-id-8 div.sk-label:hover label.sk-toggleable__label {background-color: #d4ebff;}#sk-container-id-8 div.sk-serial::before {content: \"\";position: absolute;border-left: 1px solid gray;box-sizing: border-box;top: 0;bottom: 0;left: 50%;z-index: 0;}#sk-container-id-8 div.sk-serial {display: flex;flex-direction: column;align-items: center;background-color: white;padding-right: 0.2em;padding-left: 0.2em;position: relative;}#sk-container-id-8 div.sk-item {position: relative;z-index: 1;}#sk-container-id-8 div.sk-parallel {display: flex;align-items: stretch;justify-content: center;background-color: white;position: relative;}#sk-container-id-8 div.sk-item::before, #sk-container-id-8 div.sk-parallel-item::before {content: \"\";position: absolute;border-left: 1px solid gray;box-sizing: border-box;top: 0;bottom: 0;left: 50%;z-index: -1;}#sk-container-id-8 div.sk-parallel-item {display: flex;flex-direction: column;z-index: 1;position: relative;background-color: white;}#sk-container-id-8 div.sk-parallel-item:first-child::after {align-self: flex-end;width: 50%;}#sk-container-id-8 div.sk-parallel-item:last-child::after {align-self: flex-start;width: 50%;}#sk-container-id-8 div.sk-parallel-item:only-child::after {width: 0;}#sk-container-id-8 div.sk-dashed-wrapped {border: 1px dashed gray;margin: 0 0.4em 0.5em 0.4em;box-sizing: border-box;padding-bottom: 0.4em;background-color: white;}#sk-container-id-8 div.sk-label label {font-family: monospace;font-weight: bold;display: inline-block;line-height: 1.2em;}#sk-container-id-8 div.sk-label-container {text-align: center;}#sk-container-id-8 div.sk-container {/* jupyter's `normalize.less` sets `[hidden] { display: none; }` but bootstrap.min.css set `[hidden] { display: none !important; }` so we also need the `!important` here to be able to override the default hidden behavior on the sphinx rendered scikit-learn.org. See: https://github.com/scikit-learn/scikit-learn/issues/21755 */display: inline-block !important;position: relative;}#sk-container-id-8 div.sk-text-repr-fallback {display: none;}</style><div id=\"sk-container-id-8\" class=\"sk-top-container\"><div class=\"sk-text-repr-fallback\"><pre>RandomForestRegressor(criterion=&#x27;poisson&#x27;, n_jobs=-1, random_state=50)</pre><b>In a Jupyter environment, please rerun this cell to show the HTML representation or trust the notebook. <br />On GitHub, the HTML representation is unable to render, please try loading this page with nbviewer.org.</b></div><div class=\"sk-container\" hidden><div class=\"sk-item\"><div class=\"sk-estimator sk-toggleable\"><input class=\"sk-toggleable__control sk-hidden--visually\" id=\"sk-estimator-id-8\" type=\"checkbox\" checked><label for=\"sk-estimator-id-8\" class=\"sk-toggleable__label sk-toggleable__label-arrow\">RandomForestRegressor</label><div class=\"sk-toggleable__content\"><pre>RandomForestRegressor(criterion=&#x27;poisson&#x27;, n_jobs=-1, random_state=50)</pre></div></div></div></div></div>"
      ],
      "text/plain": [
       "RandomForestRegressor(criterion='poisson', n_jobs=-1, random_state=50)"
      ]
     },
     "execution_count": 19,
     "metadata": {},
     "output_type": "execute_result"
    },
    {
     "name": "stdout",
     "output_type": "stream",
     "text": [
      "Random forest train/test RMSE:  0.001/0.002\n"
     ]
    }
   ],
   "source": [
    "# Definimos el target de interes\n",
    "target = [\"por_qe\"]\n",
    "\n",
    "# Creamos un DataFrame con la informacion necesario para el modelo de Machine Learning\n",
    "key_well_df_ml = key_well[features + target + key_well_tops].copy()\n",
    "key_well_df_ml.dropna(inplace=True)\n",
    "\n",
    "# Definimos una variable con los features con los que entrenaremos nuestros modelo de ML y con la variable a predecir\n",
    "X = key_well_df_ml[features + key_well_tops]\n",
    "y = key_well_df_ml[target]\n",
    "\n",
    "# Separamos los valores en set de entramiento y prueba\n",
    "X_train, X_test, y_train, y_test = train_test_split(X, y, test_size=0.2, random_state=32)\n",
    "\n",
    "# Convertimos en un array 1D y_train\n",
    "y_train = y_train.values.ravel()\n",
    "\n",
    "# Definimos el modelo a emplear\n",
    "rf_regressor = RandomForestRegressor(bootstrap=True, n_jobs=-1, criterion=\"poisson\", random_state=50)\n",
    "\n",
    "# Ajustamos nuestro modelo a nuestros datos de entrenamiento\n",
    "rf_regressor.fit(X_train, y_train)\n",
    "\n",
    "# Evaluamos nuestro modelo\n",
    "y_train_pred = rf_regressor.predict(X_train)\n",
    "y_test_pred = rf_regressor.predict(X_test)\n",
    "\n",
    "rf_train = np.sqrt(mean_squared_error(y_train, y_train_pred))\n",
    "rf_test = np.sqrt(mean_squared_error(y_test, y_test_pred))\n",
    "\n",
    "print(f'Random forest train/test RMSE: {rf_train: .3f}/{rf_test:.3f}')"
   ]
  },
  {
   "cell_type": "code",
   "execution_count": 20,
   "metadata": {},
   "outputs": [],
   "source": [
    "# Creamos el DataFrame predict_well con la informacion del pozo de interes\n",
    "predict_well = cpe_df[cpe_df[\"wellname\"] == well_target].copy()\n",
    "predict_well = predict_well[[\"wellname\", \"md\"] + features + key_well_tops]\n",
    "predict_well.dropna(inplace=True)\n",
    "\n",
    "# Creamos un DataFrame con la informacion para predecir\n",
    "predict_well_ml = predict_well[features + key_well_tops].copy()\n",
    "\n",
    "# Aplicamos el modelo para generar el registro sintetico\n",
    "y_pred_well_log = rf_regressor.predict(predict_well_ml)\n",
    "\n",
    "# Creamos la columna del registro sintetico\n",
    "predict_well[target[0] +\"_syn\"] = y_pred_well_log\n",
    "\n",
    "# Guardamos la curva en el dataset del pozo objetivo\n",
    "qe_df[target[0] +\"_syn\"] = predict_well[target[0] +\"_syn\"]"
   ]
  },
  {
   "cell_type": "markdown",
   "metadata": {},
   "source": [
    "### PHIE"
   ]
  },
  {
   "cell_type": "code",
   "execution_count": 21,
   "metadata": {},
   "outputs": [
    {
     "data": {
      "text/html": [
       "<style>#sk-container-id-9 {color: black;}#sk-container-id-9 pre{padding: 0;}#sk-container-id-9 div.sk-toggleable {background-color: white;}#sk-container-id-9 label.sk-toggleable__label {cursor: pointer;display: block;width: 100%;margin-bottom: 0;padding: 0.3em;box-sizing: border-box;text-align: center;}#sk-container-id-9 label.sk-toggleable__label-arrow:before {content: \"▸\";float: left;margin-right: 0.25em;color: #696969;}#sk-container-id-9 label.sk-toggleable__label-arrow:hover:before {color: black;}#sk-container-id-9 div.sk-estimator:hover label.sk-toggleable__label-arrow:before {color: black;}#sk-container-id-9 div.sk-toggleable__content {max-height: 0;max-width: 0;overflow: hidden;text-align: left;background-color: #f0f8ff;}#sk-container-id-9 div.sk-toggleable__content pre {margin: 0.2em;color: black;border-radius: 0.25em;background-color: #f0f8ff;}#sk-container-id-9 input.sk-toggleable__control:checked~div.sk-toggleable__content {max-height: 200px;max-width: 100%;overflow: auto;}#sk-container-id-9 input.sk-toggleable__control:checked~label.sk-toggleable__label-arrow:before {content: \"▾\";}#sk-container-id-9 div.sk-estimator input.sk-toggleable__control:checked~label.sk-toggleable__label {background-color: #d4ebff;}#sk-container-id-9 div.sk-label input.sk-toggleable__control:checked~label.sk-toggleable__label {background-color: #d4ebff;}#sk-container-id-9 input.sk-hidden--visually {border: 0;clip: rect(1px 1px 1px 1px);clip: rect(1px, 1px, 1px, 1px);height: 1px;margin: -1px;overflow: hidden;padding: 0;position: absolute;width: 1px;}#sk-container-id-9 div.sk-estimator {font-family: monospace;background-color: #f0f8ff;border: 1px dotted black;border-radius: 0.25em;box-sizing: border-box;margin-bottom: 0.5em;}#sk-container-id-9 div.sk-estimator:hover {background-color: #d4ebff;}#sk-container-id-9 div.sk-parallel-item::after {content: \"\";width: 100%;border-bottom: 1px solid gray;flex-grow: 1;}#sk-container-id-9 div.sk-label:hover label.sk-toggleable__label {background-color: #d4ebff;}#sk-container-id-9 div.sk-serial::before {content: \"\";position: absolute;border-left: 1px solid gray;box-sizing: border-box;top: 0;bottom: 0;left: 50%;z-index: 0;}#sk-container-id-9 div.sk-serial {display: flex;flex-direction: column;align-items: center;background-color: white;padding-right: 0.2em;padding-left: 0.2em;position: relative;}#sk-container-id-9 div.sk-item {position: relative;z-index: 1;}#sk-container-id-9 div.sk-parallel {display: flex;align-items: stretch;justify-content: center;background-color: white;position: relative;}#sk-container-id-9 div.sk-item::before, #sk-container-id-9 div.sk-parallel-item::before {content: \"\";position: absolute;border-left: 1px solid gray;box-sizing: border-box;top: 0;bottom: 0;left: 50%;z-index: -1;}#sk-container-id-9 div.sk-parallel-item {display: flex;flex-direction: column;z-index: 1;position: relative;background-color: white;}#sk-container-id-9 div.sk-parallel-item:first-child::after {align-self: flex-end;width: 50%;}#sk-container-id-9 div.sk-parallel-item:last-child::after {align-self: flex-start;width: 50%;}#sk-container-id-9 div.sk-parallel-item:only-child::after {width: 0;}#sk-container-id-9 div.sk-dashed-wrapped {border: 1px dashed gray;margin: 0 0.4em 0.5em 0.4em;box-sizing: border-box;padding-bottom: 0.4em;background-color: white;}#sk-container-id-9 div.sk-label label {font-family: monospace;font-weight: bold;display: inline-block;line-height: 1.2em;}#sk-container-id-9 div.sk-label-container {text-align: center;}#sk-container-id-9 div.sk-container {/* jupyter's `normalize.less` sets `[hidden] { display: none; }` but bootstrap.min.css set `[hidden] { display: none !important; }` so we also need the `!important` here to be able to override the default hidden behavior on the sphinx rendered scikit-learn.org. See: https://github.com/scikit-learn/scikit-learn/issues/21755 */display: inline-block !important;position: relative;}#sk-container-id-9 div.sk-text-repr-fallback {display: none;}</style><div id=\"sk-container-id-9\" class=\"sk-top-container\"><div class=\"sk-text-repr-fallback\"><pre>RandomForestRegressor(criterion=&#x27;poisson&#x27;, n_jobs=-1, random_state=50)</pre><b>In a Jupyter environment, please rerun this cell to show the HTML representation or trust the notebook. <br />On GitHub, the HTML representation is unable to render, please try loading this page with nbviewer.org.</b></div><div class=\"sk-container\" hidden><div class=\"sk-item\"><div class=\"sk-estimator sk-toggleable\"><input class=\"sk-toggleable__control sk-hidden--visually\" id=\"sk-estimator-id-9\" type=\"checkbox\" checked><label for=\"sk-estimator-id-9\" class=\"sk-toggleable__label sk-toggleable__label-arrow\">RandomForestRegressor</label><div class=\"sk-toggleable__content\"><pre>RandomForestRegressor(criterion=&#x27;poisson&#x27;, n_jobs=-1, random_state=50)</pre></div></div></div></div></div>"
      ],
      "text/plain": [
       "RandomForestRegressor(criterion='poisson', n_jobs=-1, random_state=50)"
      ]
     },
     "execution_count": 21,
     "metadata": {},
     "output_type": "execute_result"
    },
    {
     "name": "stdout",
     "output_type": "stream",
     "text": [
      "Random forest train/test RMSE:  0.001/0.003\n"
     ]
    }
   ],
   "source": [
    "# Definimos el target de interes\n",
    "target = [\"pore_qe\"]\n",
    "\n",
    "# Creamos un DataFrame con la informacion necesario para el modelo de Machine Learning\n",
    "key_well_df_ml = key_well[features + target + key_well_tops].copy()\n",
    "key_well_df_ml.dropna(inplace=True)\n",
    "\n",
    "# Definimos una variable con los features con los que entrenaremos nuestros modelo de ML y con la variable a predecir\n",
    "X = key_well_df_ml[features + key_well_tops]\n",
    "y = key_well_df_ml[target]\n",
    "\n",
    "# Separamos los valores en set de entramiento y prueba\n",
    "X_train, X_test, y_train, y_test = train_test_split(X, y, test_size=0.2, random_state=32)\n",
    "\n",
    "# Convertimos en un array 1D y_train\n",
    "y_train = y_train.values.ravel()\n",
    "\n",
    "# Definimos el modelo a emplear\n",
    "rf_regressor = RandomForestRegressor(bootstrap=True, n_jobs=-1, criterion=\"poisson\", random_state=50)\n",
    "\n",
    "# Ajustamos nuestro modelo a nuestros datos de entrenamiento\n",
    "rf_regressor.fit(X_train, y_train)\n",
    "\n",
    "# Evaluamos nuestro modelo\n",
    "y_train_pred = rf_regressor.predict(X_train)\n",
    "y_test_pred = rf_regressor.predict(X_test)\n",
    "\n",
    "rf_train = np.sqrt(mean_squared_error(y_train, y_train_pred))\n",
    "rf_test = np.sqrt(mean_squared_error(y_test, y_test_pred))\n",
    "\n",
    "print(f'Random forest train/test RMSE: {rf_train: .3f}/{rf_test:.3f}')"
   ]
  },
  {
   "cell_type": "code",
   "execution_count": 22,
   "metadata": {},
   "outputs": [],
   "source": [
    "# Creamos el DataFrame predict_well con la informacion del pozo de interes\n",
    "predict_well = cpe_df[cpe_df[\"wellname\"] == well_target].copy()\n",
    "predict_well = predict_well[[\"wellname\", \"md\"] + features + key_well_tops]\n",
    "predict_well.dropna(inplace=True)\n",
    "\n",
    "# Creamos un DataFrame con la informacion para predecir\n",
    "predict_well_ml = predict_well[features + key_well_tops].copy()\n",
    "\n",
    "# Aplicamos el modelo para generar el registro sintetico\n",
    "y_pred_well_log = rf_regressor.predict(predict_well_ml)\n",
    "\n",
    "# Creamos la columna del registro sintetico\n",
    "predict_well[target[0] +\"_syn\"] = y_pred_well_log\n",
    "\n",
    "# Guardamos la curva en el dataset del pozo objetivo\n",
    "qe_df[target[0] +\"_syn\"] = predict_well[target[0] +\"_syn\"]"
   ]
  },
  {
   "cell_type": "markdown",
   "metadata": {},
   "source": [
    "### Corregimos los volumenes"
   ]
  },
  {
   "cell_type": "code",
   "execution_count": 23,
   "metadata": {},
   "outputs": [
    {
     "data": {
      "text/html": [
       "<div>\n",
       "<style scoped>\n",
       "    .dataframe tbody tr th:only-of-type {\n",
       "        vertical-align: middle;\n",
       "    }\n",
       "\n",
       "    .dataframe tbody tr th {\n",
       "        vertical-align: top;\n",
       "    }\n",
       "\n",
       "    .dataframe thead th {\n",
       "        text-align: right;\n",
       "    }\n",
       "</style>\n",
       "<table border=\"1\" class=\"dataframe\">\n",
       "  <thead>\n",
       "    <tr style=\"text-align: right;\">\n",
       "      <th></th>\n",
       "      <th>total_vol</th>\n",
       "      <th>total_vol_corregido</th>\n",
       "    </tr>\n",
       "  </thead>\n",
       "  <tbody>\n",
       "    <tr>\n",
       "      <th>count</th>\n",
       "      <td>19376.000000</td>\n",
       "      <td>1.937600e+04</td>\n",
       "    </tr>\n",
       "    <tr>\n",
       "      <th>mean</th>\n",
       "      <td>0.883536</td>\n",
       "      <td>1.000000e+00</td>\n",
       "    </tr>\n",
       "    <tr>\n",
       "      <th>std</th>\n",
       "      <td>0.097544</td>\n",
       "      <td>5.210766e-17</td>\n",
       "    </tr>\n",
       "    <tr>\n",
       "      <th>min</th>\n",
       "      <td>0.584989</td>\n",
       "      <td>1.000000e+00</td>\n",
       "    </tr>\n",
       "    <tr>\n",
       "      <th>25%</th>\n",
       "      <td>0.842451</td>\n",
       "      <td>1.000000e+00</td>\n",
       "    </tr>\n",
       "    <tr>\n",
       "      <th>50%</th>\n",
       "      <td>0.883143</td>\n",
       "      <td>1.000000e+00</td>\n",
       "    </tr>\n",
       "    <tr>\n",
       "      <th>75%</th>\n",
       "      <td>0.890814</td>\n",
       "      <td>1.000000e+00</td>\n",
       "    </tr>\n",
       "    <tr>\n",
       "      <th>max</th>\n",
       "      <td>1.179554</td>\n",
       "      <td>1.000000e+00</td>\n",
       "    </tr>\n",
       "  </tbody>\n",
       "</table>\n",
       "</div>"
      ],
      "text/plain": [
       "          total_vol  total_vol_corregido\n",
       "count  19376.000000         1.937600e+04\n",
       "mean       0.883536         1.000000e+00\n",
       "std        0.097544         5.210766e-17\n",
       "min        0.584989         1.000000e+00\n",
       "25%        0.842451         1.000000e+00\n",
       "50%        0.883143         1.000000e+00\n",
       "75%        0.890814         1.000000e+00\n",
       "max        1.179554         1.000000e+00"
      ]
     },
     "execution_count": 23,
     "metadata": {},
     "output_type": "execute_result"
    }
   ],
   "source": [
    "# Cambiamos los valores de dolomite_qe_syn a 0 donde cretacico sea True\n",
    "qe_df.loc[qe_df['cretacico'], 'dolomite_qe_syn'] = 0\n",
    "\n",
    "# Creamos una columa con la suma de todos las variables volumetricas\n",
    "qe_df[\"total_vol\"] = qe_df[\"illite_qe_syn\"] + qe_df[\"calcite_qe_syn\"] + qe_df[\"dolomite_qe_syn\"] + qe_df[\"bound water_qe_syn\"] + qe_df[\"uoil_qe_syn\"] + qe_df[\"uwater_qe_syn\"]\n",
    "\n",
    "# Calculamos la diferencia necesaria para alcanzar la unidad\n",
    "diferencia = 1 - qe_df[\"total_vol\"]\n",
    "\n",
    "# Sumamos la diferencia a calcite y creamos una columna calcite_qe_corregido\n",
    "qe_df[\"calcite_qe_corregido\"] = qe_df[\"calcite_qe_syn\"] + diferencia\n",
    "\n",
    "# Actualizar los valores de dolomite_qe_syn a 0 donde cretacico sea True\n",
    "qe_df.loc[qe_df['cretacico'], 'dolomite_qe_syn'] = 0\n",
    "\n",
    "# Creamos una columna con la suma de todas las variables volumetricas corregidas\n",
    "qe_df[\"total_vol_corregido\"] = qe_df[\"illite_qe_syn\"] + qe_df[\"calcite_qe_corregido\"] + qe_df[\"dolomite_qe_syn\"] + qe_df[\"bound water_qe_syn\"] + qe_df[\"uoil_qe_syn\"] + qe_df[\"uwater_qe_syn\"]\n",
    "\n",
    "\n",
    "qe_df[[\"total_vol\",\"total_vol_corregido\"]].describe()"
   ]
  },
  {
   "cell_type": "markdown",
   "metadata": {},
   "source": [
    "## Guardamos el modelo de Machine Learning"
   ]
  },
  {
   "cell_type": "code",
   "execution_count": 24,
   "metadata": {},
   "outputs": [],
   "source": [
    "# definimos las unidades para cada columna\n",
    "units_row = {\n",
    "    \"wellname\": \" \",\n",
    "    \"md\": \"m\",\n",
    "    \"illite_qe_syn\": \"v/v\",\n",
    "    \"calcite_qe_corregido\": \"v/v\",\n",
    "    \"dolomite_qe_syn\": \"v/v\",\n",
    "    \"bound water_qe_syn\": \"v/v\",\n",
    "    \"uoil_qe_syn\": \"v/v\",\n",
    "    \"uwater_qe_syn\": \"v/v\",\n",
    "    \"por_qe_syn\": \"v/v\",\n",
    "    \"pore_qe_syn\": \"v/v\",\n",
    "    \"sw_qe_syn\":\"v/v\",\n",
    "}\n",
    "\n",
    "# Agregamos la fila con las unidades al DataFrame\n",
    "qe_df = pd.concat([pd.DataFrame([units_row]), qe_df], ignore_index=True)\n",
    "\n",
    "# Guardamos el registro sintetico en formato csv\n",
    "synthetic_file_name = f\"{well_target}_qelan_syn - calcite corregido.csv\"\n",
    "path_to_save = os.path.join(notebook_dir, \"..\", \"data\", \"processed\", synthetic_file_name)\n",
    "qe_df[[\"wellname\", \"md\", \"illite_qe_syn\", \"calcite_qe_corregido\", \"dolomite_qe_syn\", \"bound water_qe_syn\", \"uoil_qe_syn\", \"uwater_qe_syn\", \"por_qe_syn\", \"pore_qe_syn\", \"sw_qe_syn\"]].to_csv(path_to_save, index=False)"
   ]
  }
 ],
 "metadata": {
  "kernelspec": {
   "display_name": "Python 3",
   "language": "python",
   "name": "python3"
  },
  "language_info": {
   "codemirror_mode": {
    "name": "ipython",
    "version": 3
   },
   "file_extension": ".py",
   "mimetype": "text/x-python",
   "name": "python",
   "nbconvert_exporter": "python",
   "pygments_lexer": "ipython3",
   "version": "3.11.4"
  },
  "orig_nbformat": 4
 },
 "nbformat": 4,
 "nbformat_minor": 2
}
